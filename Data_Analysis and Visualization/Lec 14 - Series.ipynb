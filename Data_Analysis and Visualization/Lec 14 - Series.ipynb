{
 "metadata": {
  "name": "",
  "signature": "sha256:6bd2dc1e9c59ef00c1bc71cb32cd677229e49ba23d835a03faec26c1e768c572"
 },
 "nbformat": 3,
 "nbformat_minor": 0,
 "worksheets": [
  {
   "cells": [
    {
     "cell_type": "code",
     "collapsed": false,
     "input": [
      "import numpy as np\n",
      "\n",
      "from pandas import Series,DataFrame\n",
      "import pandas as pd\n"
     ],
     "language": "python",
     "metadata": {},
     "outputs": [],
     "prompt_number": 15
    },
    {
     "cell_type": "code",
     "collapsed": false,
     "input": [
      "#Lets create a Series (array of data and data labels, its index)\n",
      "\n",
      "obj = Series([3,6,9,12])\n",
      "\n",
      "#Show\n",
      "obj"
     ],
     "language": "python",
     "metadata": {},
     "outputs": [
      {
       "metadata": {},
       "output_type": "pyout",
       "prompt_number": 16,
       "text": [
        "0     3\n",
        "1     6\n",
        "2     9\n",
        "3    12\n",
        "dtype: int64"
       ]
      }
     ],
     "prompt_number": 16
    },
    {
     "cell_type": "code",
     "collapsed": false,
     "input": [
      "#Lets show the values\n",
      "obj.values"
     ],
     "language": "python",
     "metadata": {},
     "outputs": [
      {
       "metadata": {},
       "output_type": "pyout",
       "prompt_number": 17,
       "text": [
        "array([ 3,  6,  9, 12], dtype=int64)"
       ]
      }
     ],
     "prompt_number": 17
    },
    {
     "cell_type": "code",
     "collapsed": false,
     "input": [
      "#Lets show the index\n",
      "obj.index"
     ],
     "language": "python",
     "metadata": {},
     "outputs": [
      {
       "metadata": {},
       "output_type": "pyout",
       "prompt_number": 18,
       "text": [
        "Int64Index([0, 1, 2, 3], dtype='int64')"
       ]
      }
     ],
     "prompt_number": 18
    },
    {
     "cell_type": "code",
     "collapsed": false,
     "input": [
      "#Now lets create a Series with an index\n",
      "\n",
      "#WW2 casualties \n",
      "ww2_cas = Series([8700000,4300000,3000000,2100000,400000],index=['USSR','Germany','China','Japan','USA'])\n",
      "\n",
      "#Show\n",
      "ww2_cas"
     ],
     "language": "python",
     "metadata": {},
     "outputs": [
      {
       "metadata": {},
       "output_type": "pyout",
       "prompt_number": 21,
       "text": [
        "USSR       8700000\n",
        "Germany    4300000\n",
        "China      3000000\n",
        "Japan      2100000\n",
        "USA         400000\n",
        "dtype: int64"
       ]
      }
     ],
     "prompt_number": 21
    },
    {
     "cell_type": "code",
     "collapsed": false,
     "input": [
      "#Now we can use index values to select Series values\n",
      "ww2_cas['USA']"
     ],
     "language": "python",
     "metadata": {},
     "outputs": [
      {
       "metadata": {},
       "output_type": "pyout",
       "prompt_number": 22,
       "text": [
        "400000"
       ]
      }
     ],
     "prompt_number": 22
    },
    {
     "cell_type": "code",
     "collapsed": false,
     "input": [
      "#Can also check with array operations\n",
      "\n",
      "#Check who had casualties greater than 4 million\n",
      "ww2_cas[ww2_cas>4000000]"
     ],
     "language": "python",
     "metadata": {},
     "outputs": [
      {
       "metadata": {},
       "output_type": "pyout",
       "prompt_number": 26,
       "text": [
        "USSR       8700000\n",
        "Germany    4300000\n",
        "dtype: int64"
       ]
      }
     ],
     "prompt_number": 26
    },
    {
     "cell_type": "code",
     "collapsed": false,
     "input": [
      "#Can treat Series as ordered dictionary\n",
      "\n",
      "#Check if USSR is in Series\n",
      "'USSR' in ww2_cas"
     ],
     "language": "python",
     "metadata": {},
     "outputs": [
      {
       "metadata": {},
       "output_type": "pyout",
       "prompt_number": 27,
       "text": [
        "True"
       ]
      }
     ],
     "prompt_number": 27
    },
    {
     "cell_type": "code",
     "collapsed": false,
     "input": [
      "#Can convert Series into Python dictionary\n",
      "ww2_dict = ww2_cas.to_dict()\n",
      "\n",
      "#Show\n",
      "ww2_dict"
     ],
     "language": "python",
     "metadata": {},
     "outputs": [
      {
       "metadata": {},
       "output_type": "pyout",
       "prompt_number": 31,
       "text": [
        "{'China': 3000000,\n",
        " 'Germany': 4300000,\n",
        " 'Japan': 2100000,\n",
        " 'USA': 400000,\n",
        " 'USSR': 8700000}"
       ]
      }
     ],
     "prompt_number": 31
    },
    {
     "cell_type": "code",
     "collapsed": false,
     "input": [
      "#Can convert back into a Series\n",
      "WW2_Series = Series(ww2_dict)"
     ],
     "language": "python",
     "metadata": {},
     "outputs": [],
     "prompt_number": 34
    },
    {
     "cell_type": "code",
     "collapsed": false,
     "input": [
      "#Show\n",
      "WW2_Series"
     ],
     "language": "python",
     "metadata": {},
     "outputs": [
      {
       "metadata": {},
       "output_type": "pyout",
       "prompt_number": 35,
       "text": [
        "China      3000000\n",
        "Germany    4300000\n",
        "Japan      2100000\n",
        "USA         400000\n",
        "USSR       8700000\n",
        "dtype: int64"
       ]
      }
     ],
     "prompt_number": 35
    },
    {
     "cell_type": "code",
     "collapsed": false,
     "input": [
      "#Passing a dictionary the index will have the dict keys in order\n",
      "countries = ['China','Germany','Japan','USA','USSR','Argentina']\n"
     ],
     "language": "python",
     "metadata": {},
     "outputs": [],
     "prompt_number": 36
    },
    {
     "cell_type": "code",
     "collapsed": false,
     "input": [
      "#Lets redefine a Series\n",
      "obj2 = Series(ww2_dict,index=countries)"
     ],
     "language": "python",
     "metadata": {},
     "outputs": [],
     "prompt_number": 37
    },
    {
     "cell_type": "code",
     "collapsed": false,
     "input": [
      "#Show\n",
      "obj2"
     ],
     "language": "python",
     "metadata": {},
     "outputs": [
      {
       "metadata": {},
       "output_type": "pyout",
       "prompt_number": 38,
       "text": [
        "China        3000000\n",
        "Germany      4300000\n",
        "Japan        2100000\n",
        "USA           400000\n",
        "USSR         8700000\n",
        "Argentina        NaN\n",
        "dtype: float64"
       ]
      }
     ],
     "prompt_number": 38
    },
    {
     "cell_type": "code",
     "collapsed": false,
     "input": [
      "#We can use isnull and notnull to find missing data\n",
      "pd.isnull(obj2)\n",
      "\n",
      "#obj2.isnull() "
     ],
     "language": "python",
     "metadata": {},
     "outputs": [
      {
       "metadata": {},
       "output_type": "pyout",
       "prompt_number": 39,
       "text": [
        "China        False\n",
        "Germany      False\n",
        "Japan        False\n",
        "USA          False\n",
        "USSR         False\n",
        "Argentina     True\n",
        "dtype: bool"
       ]
      }
     ],
     "prompt_number": 39
    },
    {
     "cell_type": "code",
     "collapsed": false,
     "input": [
      "#Same for the opposite\n",
      "pd.notnull(obj2)\n",
      "\n",
      "#obj2.notnull()"
     ],
     "language": "python",
     "metadata": {},
     "outputs": [
      {
       "metadata": {},
       "output_type": "pyout",
       "prompt_number": 40,
       "text": [
        "China         True\n",
        "Germany       True\n",
        "Japan         True\n",
        "USA           True\n",
        "USSR          True\n",
        "Argentina    False\n",
        "dtype: bool"
       ]
      }
     ],
     "prompt_number": 40
    },
    {
     "cell_type": "code",
     "collapsed": false,
     "input": [
      "#Lets see the ww2 Series again\n",
      "WW2_Series"
     ],
     "language": "python",
     "metadata": {},
     "outputs": [
      {
       "metadata": {},
       "output_type": "pyout",
       "prompt_number": 41,
       "text": [
        "China      3000000\n",
        "Germany    4300000\n",
        "Japan      2100000\n",
        "USA         400000\n",
        "USSR       8700000\n",
        "dtype: int64"
       ]
      }
     ],
     "prompt_number": 41
    },
    {
     "cell_type": "code",
     "collapsed": false,
     "input": [
      "#Lets check our Series with Argentine again\n",
      "obj2"
     ],
     "language": "python",
     "metadata": {},
     "outputs": [
      {
       "metadata": {},
       "output_type": "pyout",
       "prompt_number": 42,
       "text": [
        "China        3000000\n",
        "Germany      4300000\n",
        "Japan        2100000\n",
        "USA           400000\n",
        "USSR         8700000\n",
        "Argentina        NaN\n",
        "dtype: float64"
       ]
      }
     ],
     "prompt_number": 42
    },
    {
     "cell_type": "code",
     "collapsed": false,
     "input": [
      "#Now we can add and pandas automatically aligns data by index\n",
      "WW2_Series + obj2"
     ],
     "language": "python",
     "metadata": {},
     "outputs": [
      {
       "metadata": {},
       "output_type": "pyout",
       "prompt_number": 43,
       "text": [
        "Argentina         NaN\n",
        "China         6000000\n",
        "Germany       8600000\n",
        "Japan         4200000\n",
        "USA            800000\n",
        "USSR         17400000\n",
        "dtype: float64"
       ]
      }
     ],
     "prompt_number": 43
    },
    {
     "cell_type": "code",
     "collapsed": false,
     "input": [
      "#We can give Series names\n",
      "obj2.name = \"World War 2 Casualties\""
     ],
     "language": "python",
     "metadata": {},
     "outputs": [],
     "prompt_number": 45
    },
    {
     "cell_type": "code",
     "collapsed": false,
     "input": [
      "#Show\n",
      "obj2"
     ],
     "language": "python",
     "metadata": {},
     "outputs": [
      {
       "metadata": {},
       "output_type": "pyout",
       "prompt_number": 46,
       "text": [
        "China        3000000\n",
        "Germany      4300000\n",
        "Japan        2100000\n",
        "USA           400000\n",
        "USSR         8700000\n",
        "Argentina        NaN\n",
        "Name: World War 2 Casualties, dtype: float64"
       ]
      }
     ],
     "prompt_number": 46
    },
    {
     "cell_type": "code",
     "collapsed": false,
     "input": [
      "#We can also name index\n",
      "obj2.index.name = 'Countries'"
     ],
     "language": "python",
     "metadata": {},
     "outputs": [],
     "prompt_number": 47
    },
    {
     "cell_type": "code",
     "collapsed": false,
     "input": [
      "#Show\n",
      "obj2"
     ],
     "language": "python",
     "metadata": {},
     "outputs": [
      {
       "metadata": {},
       "output_type": "pyout",
       "prompt_number": 48,
       "text": [
        "Countries\n",
        "China        3000000\n",
        "Germany      4300000\n",
        "Japan        2100000\n",
        "USA           400000\n",
        "USSR         8700000\n",
        "Argentina        NaN\n",
        "Name: World War 2 Casualties, dtype: float64"
       ]
      }
     ],
     "prompt_number": 48
    },
    {
     "cell_type": "code",
     "collapsed": false,
     "input": [
      "#Next we'll learn DataFrames!"
     ],
     "language": "python",
     "metadata": {},
     "outputs": [],
     "prompt_number": 49
    },
    {
     "cell_type": "code",
     "collapsed": false,
     "input": [],
     "language": "python",
     "metadata": {},
     "outputs": []
    }
   ],
   "metadata": {}
  }
 ]
}