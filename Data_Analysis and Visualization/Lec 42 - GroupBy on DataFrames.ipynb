{
 "metadata": {
  "name": "",
  "signature": "sha256:ebda4ee2c99b717132e11ab16547df5d19f0c9d07528a43a17398c4d6171db73"
 },
 "nbformat": 3,
 "nbformat_minor": 0,
 "worksheets": [
  {
   "cells": [
    {
     "cell_type": "code",
     "collapsed": false,
     "input": [
      "import numpy as np\n",
      "import pandas as pd\n",
      "from pandas import DataFrame, Series"
     ],
     "language": "python",
     "metadata": {},
     "outputs": [],
     "prompt_number": 3
    },
    {
     "cell_type": "code",
     "collapsed": false,
     "input": [
      "#Let's make a dframe\n",
      "dframe = DataFrame({'k1':['X','X','Y','Y','Z'],\n",
      "                    'k2':['alpha','beta','alpha','beta','alpha'],\n",
      "                    'dataset1':np.random.randn(5),\n",
      "                    'dataset2':np.random.randn(5)})\n",
      "\n",
      "#Show\n",
      "dframe"
     ],
     "language": "python",
     "metadata": {},
     "outputs": [
      {
       "html": [
        "<div style=\"max-height:1000px;max-width:1500px;overflow:auto;\">\n",
        "<table border=\"1\" class=\"dataframe\">\n",
        "  <thead>\n",
        "    <tr style=\"text-align: right;\">\n",
        "      <th></th>\n",
        "      <th>dataset1</th>\n",
        "      <th>dataset2</th>\n",
        "      <th>k1</th>\n",
        "      <th>k2</th>\n",
        "    </tr>\n",
        "  </thead>\n",
        "  <tbody>\n",
        "    <tr>\n",
        "      <th>0</th>\n",
        "      <td>-0.123544</td>\n",
        "      <td> 1.924614</td>\n",
        "      <td> X</td>\n",
        "      <td> alpha</td>\n",
        "    </tr>\n",
        "    <tr>\n",
        "      <th>1</th>\n",
        "      <td>-1.448666</td>\n",
        "      <td> 0.477115</td>\n",
        "      <td> X</td>\n",
        "      <td>  beta</td>\n",
        "    </tr>\n",
        "    <tr>\n",
        "      <th>2</th>\n",
        "      <td>-1.139759</td>\n",
        "      <td>-1.378362</td>\n",
        "      <td> Y</td>\n",
        "      <td> alpha</td>\n",
        "    </tr>\n",
        "    <tr>\n",
        "      <th>3</th>\n",
        "      <td>-0.617664</td>\n",
        "      <td>-0.105714</td>\n",
        "      <td> Y</td>\n",
        "      <td>  beta</td>\n",
        "    </tr>\n",
        "    <tr>\n",
        "      <th>4</th>\n",
        "      <td>-0.573748</td>\n",
        "      <td> 0.409242</td>\n",
        "      <td> Z</td>\n",
        "      <td> alpha</td>\n",
        "    </tr>\n",
        "  </tbody>\n",
        "</table>\n",
        "</div>"
       ],
       "metadata": {},
       "output_type": "pyout",
       "prompt_number": 4,
       "text": [
        "   dataset1  dataset2 k1     k2\n",
        "0 -0.123544  1.924614  X  alpha\n",
        "1 -1.448666  0.477115  X   beta\n",
        "2 -1.139759 -1.378362  Y  alpha\n",
        "3 -0.617664 -0.105714  Y   beta\n",
        "4 -0.573748  0.409242  Z  alpha"
       ]
      }
     ],
     "prompt_number": 4
    },
    {
     "cell_type": "code",
     "collapsed": false,
     "input": [
      "#Now let's see how to use groupby\n",
      "\n",
      "#Lets grab the dataset1 column and group it by the k1 key\n",
      "group1 = dframe['dataset1'].groupby(dframe['k1'])\n",
      "\n",
      "#Show the groupby object\n",
      "group1"
     ],
     "language": "python",
     "metadata": {},
     "outputs": [
      {
       "metadata": {},
       "output_type": "pyout",
       "prompt_number": 5,
       "text": [
        "<pandas.core.groupby.SeriesGroupBy object at 0x000000000AF84780>"
       ]
      }
     ],
     "prompt_number": 5
    },
    {
     "cell_type": "code",
     "collapsed": false,
     "input": [
      "#Now we can perform operations on this particular group\n",
      "group1.mean()"
     ],
     "language": "python",
     "metadata": {},
     "outputs": [
      {
       "metadata": {},
       "output_type": "pyout",
       "prompt_number": 6,
       "text": [
        "k1\n",
        "X    -0.786105\n",
        "Y    -0.878712\n",
        "Z    -0.573748\n",
        "Name: dataset1, dtype: float64"
       ]
      }
     ],
     "prompt_number": 6
    },
    {
     "cell_type": "code",
     "collapsed": false,
     "input": [
      "# We can use group keys that are series as well\n",
      "\n",
      "#For example:\n",
      "\n",
      "#We'll make some arrays for use as keys\n",
      "cities = np.array(['NY','LA','LA','NY','NY'])\n",
      "month = np.array(['JAN','FEB','JAN','FEB','JAN'])\n",
      "\n",
      "#Now using the data from dataset1, group the means by city and month\n",
      "dframe['dataset1'].groupby([cities,month]).mean()"
     ],
     "language": "python",
     "metadata": {},
     "outputs": [
      {
       "metadata": {},
       "output_type": "pyout",
       "prompt_number": 7,
       "text": [
        "LA  FEB   -1.448666\n",
        "    JAN   -1.139759\n",
        "NY  FEB   -0.617664\n",
        "    JAN   -0.348646\n",
        "Name: dataset1, dtype: float64"
       ]
      }
     ],
     "prompt_number": 7
    },
    {
     "cell_type": "code",
     "collapsed": false,
     "input": [
      "# let's see the original dframe again.\n",
      "dframe"
     ],
     "language": "python",
     "metadata": {},
     "outputs": [
      {
       "html": [
        "<div style=\"max-height:1000px;max-width:1500px;overflow:auto;\">\n",
        "<table border=\"1\" class=\"dataframe\">\n",
        "  <thead>\n",
        "    <tr style=\"text-align: right;\">\n",
        "      <th></th>\n",
        "      <th>dataset1</th>\n",
        "      <th>dataset2</th>\n",
        "      <th>k1</th>\n",
        "      <th>k2</th>\n",
        "    </tr>\n",
        "  </thead>\n",
        "  <tbody>\n",
        "    <tr>\n",
        "      <th>0</th>\n",
        "      <td>-0.123544</td>\n",
        "      <td> 1.924614</td>\n",
        "      <td> X</td>\n",
        "      <td> alpha</td>\n",
        "    </tr>\n",
        "    <tr>\n",
        "      <th>1</th>\n",
        "      <td>-1.448666</td>\n",
        "      <td> 0.477115</td>\n",
        "      <td> X</td>\n",
        "      <td>  beta</td>\n",
        "    </tr>\n",
        "    <tr>\n",
        "      <th>2</th>\n",
        "      <td>-1.139759</td>\n",
        "      <td>-1.378362</td>\n",
        "      <td> Y</td>\n",
        "      <td> alpha</td>\n",
        "    </tr>\n",
        "    <tr>\n",
        "      <th>3</th>\n",
        "      <td>-0.617664</td>\n",
        "      <td>-0.105714</td>\n",
        "      <td> Y</td>\n",
        "      <td>  beta</td>\n",
        "    </tr>\n",
        "    <tr>\n",
        "      <th>4</th>\n",
        "      <td>-0.573748</td>\n",
        "      <td> 0.409242</td>\n",
        "      <td> Z</td>\n",
        "      <td> alpha</td>\n",
        "    </tr>\n",
        "  </tbody>\n",
        "</table>\n",
        "</div>"
       ],
       "metadata": {},
       "output_type": "pyout",
       "prompt_number": 8,
       "text": [
        "   dataset1  dataset2 k1     k2\n",
        "0 -0.123544  1.924614  X  alpha\n",
        "1 -1.448666  0.477115  X   beta\n",
        "2 -1.139759 -1.378362  Y  alpha\n",
        "3 -0.617664 -0.105714  Y   beta\n",
        "4 -0.573748  0.409242  Z  alpha"
       ]
      }
     ],
     "prompt_number": 8
    },
    {
     "cell_type": "code",
     "collapsed": false,
     "input": [
      "# WE can also pass column names as group keys\n",
      "dframe.groupby('k1').mean()"
     ],
     "language": "python",
     "metadata": {},
     "outputs": [
      {
       "html": [
        "<div style=\"max-height:1000px;max-width:1500px;overflow:auto;\">\n",
        "<table border=\"1\" class=\"dataframe\">\n",
        "  <thead>\n",
        "    <tr style=\"text-align: right;\">\n",
        "      <th></th>\n",
        "      <th>dataset1</th>\n",
        "      <th>dataset2</th>\n",
        "    </tr>\n",
        "    <tr>\n",
        "      <th>k1</th>\n",
        "      <th></th>\n",
        "      <th></th>\n",
        "    </tr>\n",
        "  </thead>\n",
        "  <tbody>\n",
        "    <tr>\n",
        "      <th>X</th>\n",
        "      <td>-0.786105</td>\n",
        "      <td> 1.200865</td>\n",
        "    </tr>\n",
        "    <tr>\n",
        "      <th>Y</th>\n",
        "      <td>-0.878712</td>\n",
        "      <td>-0.742038</td>\n",
        "    </tr>\n",
        "    <tr>\n",
        "      <th>Z</th>\n",
        "      <td>-0.573748</td>\n",
        "      <td> 0.409242</td>\n",
        "    </tr>\n",
        "  </tbody>\n",
        "</table>\n",
        "</div>"
       ],
       "metadata": {},
       "output_type": "pyout",
       "prompt_number": 9,
       "text": [
        "    dataset1  dataset2\n",
        "k1                    \n",
        "X  -0.786105  1.200865\n",
        "Y  -0.878712 -0.742038\n",
        "Z  -0.573748  0.409242"
       ]
      }
     ],
     "prompt_number": 9
    },
    {
     "cell_type": "code",
     "collapsed": false,
     "input": [
      "# Or multiple column names\n",
      "dframe.groupby(['k1','k2']).mean()"
     ],
     "language": "python",
     "metadata": {},
     "outputs": [
      {
       "html": [
        "<div style=\"max-height:1000px;max-width:1500px;overflow:auto;\">\n",
        "<table border=\"1\" class=\"dataframe\">\n",
        "  <thead>\n",
        "    <tr style=\"text-align: right;\">\n",
        "      <th></th>\n",
        "      <th></th>\n",
        "      <th>dataset1</th>\n",
        "      <th>dataset2</th>\n",
        "    </tr>\n",
        "    <tr>\n",
        "      <th>k1</th>\n",
        "      <th>k2</th>\n",
        "      <th></th>\n",
        "      <th></th>\n",
        "    </tr>\n",
        "  </thead>\n",
        "  <tbody>\n",
        "    <tr>\n",
        "      <th rowspan=\"2\" valign=\"top\">X</th>\n",
        "      <th>alpha</th>\n",
        "      <td>-0.123544</td>\n",
        "      <td> 1.924614</td>\n",
        "    </tr>\n",
        "    <tr>\n",
        "      <th>beta</th>\n",
        "      <td>-1.448666</td>\n",
        "      <td> 0.477115</td>\n",
        "    </tr>\n",
        "    <tr>\n",
        "      <th rowspan=\"2\" valign=\"top\">Y</th>\n",
        "      <th>alpha</th>\n",
        "      <td>-1.139759</td>\n",
        "      <td>-1.378362</td>\n",
        "    </tr>\n",
        "    <tr>\n",
        "      <th>beta</th>\n",
        "      <td>-0.617664</td>\n",
        "      <td>-0.105714</td>\n",
        "    </tr>\n",
        "    <tr>\n",
        "      <th>Z</th>\n",
        "      <th>alpha</th>\n",
        "      <td>-0.573748</td>\n",
        "      <td> 0.409242</td>\n",
        "    </tr>\n",
        "  </tbody>\n",
        "</table>\n",
        "</div>"
       ],
       "metadata": {},
       "output_type": "pyout",
       "prompt_number": 10,
       "text": [
        "          dataset1  dataset2\n",
        "k1 k2                       \n",
        "X  alpha -0.123544  1.924614\n",
        "   beta  -1.448666  0.477115\n",
        "Y  alpha -1.139759 -1.378362\n",
        "   beta  -0.617664 -0.105714\n",
        "Z  alpha -0.573748  0.409242"
       ]
      }
     ],
     "prompt_number": 10
    },
    {
     "cell_type": "code",
     "collapsed": false,
     "input": [
      "# Another useful groupby method is getting the group sizes\n",
      "dframe.groupby(['k1']).size()"
     ],
     "language": "python",
     "metadata": {},
     "outputs": [
      {
       "metadata": {},
       "output_type": "pyout",
       "prompt_number": 11,
       "text": [
        "k1\n",
        "X     2\n",
        "Y     2\n",
        "Z     1\n",
        "dtype: int64"
       ]
      }
     ],
     "prompt_number": 11
    },
    {
     "cell_type": "code",
     "collapsed": false,
     "input": [
      "# We can also iterate over groups\n",
      "\n",
      "#For example:\n",
      "for name,group in dframe.groupby('k1'):\n",
      "    print \"This is the %s group\" %name\n",
      "    print group\n",
      "    print '\\n'"
     ],
     "language": "python",
     "metadata": {},
     "outputs": [
      {
       "output_type": "stream",
       "stream": "stdout",
       "text": [
        "This is the X group\n",
        "   dataset1  dataset2 k1     k2\n",
        "0 -0.123544  1.924614  X  alpha\n",
        "1 -1.448666  0.477115  X   beta\n",
        "\n",
        "\n",
        "This is the Y group\n",
        "   dataset1  dataset2 k1     k2\n",
        "2 -1.139759 -1.378362  Y  alpha\n",
        "3 -0.617664 -0.105714  Y   beta\n",
        "\n",
        "\n",
        "This is the Z group\n",
        "   dataset1  dataset2 k1     k2\n",
        "4 -0.573748  0.409242  Z  alpha\n",
        "\n",
        "\n"
       ]
      }
     ],
     "prompt_number": 12
    },
    {
     "cell_type": "code",
     "collapsed": false,
     "input": [
      "# We can also iterate with multiple keys\n",
      "for (k1,k2) , group in dframe.groupby(['k1','k2']):\n",
      "    print \"Key1 = %s Key2 = %s\" %(k1,k2)\n",
      "    print group\n",
      "    print '\\n'"
     ],
     "language": "python",
     "metadata": {},
     "outputs": [
      {
       "output_type": "stream",
       "stream": "stdout",
       "text": [
        "Key1 = X Key2 = alpha\n",
        "   dataset1  dataset2 k1     k2\n",
        "0 -0.123544  1.924614  X  alpha\n",
        "\n",
        "\n",
        "Key1 = X Key2 = beta\n",
        "   dataset1  dataset2 k1    k2\n",
        "1 -1.448666  0.477115  X  beta\n",
        "\n",
        "\n",
        "Key1 = Y Key2 = alpha\n",
        "   dataset1  dataset2 k1     k2\n",
        "2 -1.139759 -1.378362  Y  alpha\n",
        "\n",
        "\n",
        "Key1 = Y Key2 = beta\n",
        "   dataset1  dataset2 k1    k2\n",
        "3 -0.617664 -0.105714  Y  beta\n",
        "\n",
        "\n",
        "Key1 = Z Key2 = alpha\n",
        "   dataset1  dataset2 k1     k2\n",
        "4 -0.573748  0.409242  Z  alpha\n",
        "\n",
        "\n"
       ]
      }
     ],
     "prompt_number": 13
    },
    {
     "cell_type": "code",
     "collapsed": false,
     "input": [
      "# A possibly useful tactic is creating a dictionary of the data pieces \n",
      "group_dict = dict(list(dframe.groupby('k1')))\n",
      "\n",
      "#Show the group with X\n",
      "group_dict['X']"
     ],
     "language": "python",
     "metadata": {},
     "outputs": [
      {
       "html": [
        "<div style=\"max-height:1000px;max-width:1500px;overflow:auto;\">\n",
        "<table border=\"1\" class=\"dataframe\">\n",
        "  <thead>\n",
        "    <tr style=\"text-align: right;\">\n",
        "      <th></th>\n",
        "      <th>dataset1</th>\n",
        "      <th>dataset2</th>\n",
        "      <th>k1</th>\n",
        "      <th>k2</th>\n",
        "    </tr>\n",
        "  </thead>\n",
        "  <tbody>\n",
        "    <tr>\n",
        "      <th>0</th>\n",
        "      <td>-0.123544</td>\n",
        "      <td> 1.924614</td>\n",
        "      <td> X</td>\n",
        "      <td> alpha</td>\n",
        "    </tr>\n",
        "    <tr>\n",
        "      <th>1</th>\n",
        "      <td>-1.448666</td>\n",
        "      <td> 0.477115</td>\n",
        "      <td> X</td>\n",
        "      <td>  beta</td>\n",
        "    </tr>\n",
        "  </tbody>\n",
        "</table>\n",
        "</div>"
       ],
       "metadata": {},
       "output_type": "pyout",
       "prompt_number": 14,
       "text": [
        "   dataset1  dataset2 k1     k2\n",
        "0 -0.123544  1.924614  X  alpha\n",
        "1 -1.448666  0.477115  X   beta"
       ]
      }
     ],
     "prompt_number": 14
    },
    {
     "cell_type": "code",
     "collapsed": false,
     "input": [
      "# We could have also chosen to do this with axis = 1\n",
      "\n",
      "# Let's creat a dictionary for dtypes of objects!\n",
      "group_dict_axis1 = dict(list(dframe.groupby(dframe.dtypes,axis=1)))\n",
      "\n",
      "#show\n",
      "group_dict_axis1"
     ],
     "language": "python",
     "metadata": {},
     "outputs": [
      {
       "metadata": {},
       "output_type": "pyout",
       "prompt_number": 15,
       "text": [
        "{dtype('float64'):    dataset1  dataset2\n",
        " 0 -0.123544  1.924614\n",
        " 1 -1.448666  0.477115\n",
        " 2 -1.139759 -1.378362\n",
        " 3 -0.617664 -0.105714\n",
        " 4 -0.573748  0.409242, dtype('O'):   k1     k2\n",
        " 0  X  alpha\n",
        " 1  X   beta\n",
        " 2  Y  alpha\n",
        " 3  Y   beta\n",
        " 4  Z  alpha}"
       ]
      }
     ],
     "prompt_number": 15
    },
    {
     "cell_type": "code",
     "collapsed": false,
     "input": [
      "# Next we'll learn how to use groupby with columns"
     ],
     "language": "python",
     "metadata": {},
     "outputs": [],
     "prompt_number": 16
    },
    {
     "cell_type": "code",
     "collapsed": false,
     "input": [
      "# For example if we only wanted to group the dataset2 column with both sets of keys\n",
      "dataset2_group = dframe.groupby(['k1','k2'])[['dataset2']]\n",
      "\n",
      "dataset2_group.mean()"
     ],
     "language": "python",
     "metadata": {},
     "outputs": [
      {
       "html": [
        "<div style=\"max-height:1000px;max-width:1500px;overflow:auto;\">\n",
        "<table border=\"1\" class=\"dataframe\">\n",
        "  <thead>\n",
        "    <tr style=\"text-align: right;\">\n",
        "      <th></th>\n",
        "      <th></th>\n",
        "      <th>dataset2</th>\n",
        "    </tr>\n",
        "    <tr>\n",
        "      <th>k1</th>\n",
        "      <th>k2</th>\n",
        "      <th></th>\n",
        "    </tr>\n",
        "  </thead>\n",
        "  <tbody>\n",
        "    <tr>\n",
        "      <th rowspan=\"2\" valign=\"top\">X</th>\n",
        "      <th>alpha</th>\n",
        "      <td> 1.924614</td>\n",
        "    </tr>\n",
        "    <tr>\n",
        "      <th>beta</th>\n",
        "      <td> 0.477115</td>\n",
        "    </tr>\n",
        "    <tr>\n",
        "      <th rowspan=\"2\" valign=\"top\">Y</th>\n",
        "      <th>alpha</th>\n",
        "      <td>-1.378362</td>\n",
        "    </tr>\n",
        "    <tr>\n",
        "      <th>beta</th>\n",
        "      <td>-0.105714</td>\n",
        "    </tr>\n",
        "    <tr>\n",
        "      <th>Z</th>\n",
        "      <th>alpha</th>\n",
        "      <td> 0.409242</td>\n",
        "    </tr>\n",
        "  </tbody>\n",
        "</table>\n",
        "</div>"
       ],
       "metadata": {},
       "output_type": "pyout",
       "prompt_number": 18,
       "text": [
        "          dataset2\n",
        "k1 k2             \n",
        "X  alpha  1.924614\n",
        "   beta   0.477115\n",
        "Y  alpha -1.378362\n",
        "   beta  -0.105714\n",
        "Z  alpha  0.409242"
       ]
      }
     ],
     "prompt_number": 18
    },
    {
     "cell_type": "code",
     "collapsed": false,
     "input": [
      "#Next we'll have a quick lesson on grouping with dictionaries and series!"
     ],
     "language": "python",
     "metadata": {},
     "outputs": [
      {
       "metadata": {},
       "output_type": "pyout",
       "prompt_number": 19,
       "text": [
        "<pandas.core.groupby.DataFrameGroupBy object at 0x000000000AFEF908>"
       ]
      }
     ],
     "prompt_number": 19
    },
    {
     "cell_type": "code",
     "collapsed": false,
     "input": [],
     "language": "python",
     "metadata": {},
     "outputs": []
    }
   ],
   "metadata": {}
  }
 ]
}