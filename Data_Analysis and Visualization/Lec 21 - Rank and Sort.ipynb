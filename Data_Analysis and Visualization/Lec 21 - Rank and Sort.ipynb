{
 "metadata": {
  "name": "",
  "signature": "sha256:4bba170c2c83530b20a83f4c66e2fd31663a4a0904cf06b4cf5826e58b9d6bb6"
 },
 "nbformat": 3,
 "nbformat_minor": 0,
 "worksheets": [
  {
   "cells": [
    {
     "cell_type": "code",
     "collapsed": false,
     "input": [
      "import numpy as np\n",
      "from pandas import Series,DataFrame\n",
      "import pandas as pd"
     ],
     "language": "python",
     "metadata": {},
     "outputs": [],
     "prompt_number": 1
    },
    {
     "cell_type": "code",
     "collapsed": false,
     "input": [
      "#Sorting by index\n",
      "ser1 = Series(range(3),index=['C','A','B'])\n",
      "\n",
      "#show\n",
      "ser1"
     ],
     "language": "python",
     "metadata": {},
     "outputs": [
      {
       "metadata": {},
       "output_type": "pyout",
       "prompt_number": 4,
       "text": [
        "C    0\n",
        "A    1\n",
        "B    2\n",
        "dtype: int64"
       ]
      }
     ],
     "prompt_number": 4
    },
    {
     "cell_type": "code",
     "collapsed": false,
     "input": [
      "#Now sort_index\n",
      "ser1.sort_index()"
     ],
     "language": "python",
     "metadata": {},
     "outputs": [
      {
       "metadata": {},
       "output_type": "pyout",
       "prompt_number": 5,
       "text": [
        "A    1\n",
        "B    2\n",
        "C    0\n",
        "dtype: int64"
       ]
      }
     ],
     "prompt_number": 5
    },
    {
     "cell_type": "code",
     "collapsed": false,
     "input": [
      "#Can sort a Series by its values\n",
      "ser1.order()"
     ],
     "language": "python",
     "metadata": {},
     "outputs": [
      {
       "metadata": {},
       "output_type": "pyout",
       "prompt_number": 6,
       "text": [
        "C    0\n",
        "A    1\n",
        "B    2\n",
        "dtype: int64"
       ]
      }
     ],
     "prompt_number": 6
    },
    {
     "cell_type": "code",
     "collapsed": false,
     "input": [
      "#Lets see how ranking works\n",
      "\n",
      "from numpy.random import randn\n",
      "ser2 = Series(randn(10))\n",
      "\n",
      "#Show\n",
      "ser2"
     ],
     "language": "python",
     "metadata": {},
     "outputs": [
      {
       "metadata": {},
       "output_type": "pyout",
       "prompt_number": 10,
       "text": [
        "0    0.524553\n",
        "1   -1.987343\n",
        "2   -0.883902\n",
        "3   -0.875829\n",
        "4    0.216089\n",
        "5    0.744837\n",
        "6   -0.761465\n",
        "7    0.792798\n",
        "8   -0.144650\n",
        "9    0.100972\n",
        "dtype: float64"
       ]
      }
     ],
     "prompt_number": 10
    },
    {
     "cell_type": "code",
     "collapsed": false,
     "input": [
      "#This will show you the rank used if you sort the series\n",
      "ser2.rank()"
     ],
     "language": "python",
     "metadata": {},
     "outputs": [
      {
       "metadata": {},
       "output_type": "pyout",
       "prompt_number": 11,
       "text": [
        "0     8\n",
        "1     1\n",
        "2     2\n",
        "3     3\n",
        "4     7\n",
        "5     9\n",
        "6     4\n",
        "7    10\n",
        "8     5\n",
        "9     6\n",
        "dtype: float64"
       ]
      }
     ],
     "prompt_number": 11
    },
    {
     "cell_type": "code",
     "collapsed": false,
     "input": [
      "#Lets sort it now\n",
      "ser2.sort()\n",
      "\n",
      "#Show\n",
      "ser2"
     ],
     "language": "python",
     "metadata": {},
     "outputs": [
      {
       "metadata": {},
       "output_type": "pyout",
       "prompt_number": 13,
       "text": [
        "1   -1.987343\n",
        "2   -0.883902\n",
        "3   -0.875829\n",
        "6   -0.761465\n",
        "8   -0.144650\n",
        "9    0.100972\n",
        "4    0.216089\n",
        "0    0.524553\n",
        "5    0.744837\n",
        "7    0.792798\n",
        "dtype: float64"
       ]
      }
     ],
     "prompt_number": 13
    },
    {
     "cell_type": "code",
     "collapsed": false,
     "input": [
      "#After sorting let's check the rank and see iof it makes sense\n",
      "ser2.rank()"
     ],
     "language": "python",
     "metadata": {},
     "outputs": [
      {
       "metadata": {},
       "output_type": "pyout",
       "prompt_number": 15,
       "text": [
        "1     1\n",
        "2     2\n",
        "3     3\n",
        "6     4\n",
        "8     5\n",
        "9     6\n",
        "4     7\n",
        "0     8\n",
        "5     9\n",
        "7    10\n",
        "dtype: float64"
       ]
      }
     ],
     "prompt_number": 15
    },
    {
     "cell_type": "code",
     "collapsed": false,
     "input": [
      "#On the left column we see th original index value and on the right we see it's rank!"
     ],
     "language": "python",
     "metadata": {},
     "outputs": [],
     "prompt_number": 16
    },
    {
     "cell_type": "code",
     "collapsed": false,
     "input": [
      "#Next we'll learn about using descriptive statistics on dataframes!"
     ],
     "language": "python",
     "metadata": {},
     "outputs": []
    }
   ],
   "metadata": {}
  }
 ]
}