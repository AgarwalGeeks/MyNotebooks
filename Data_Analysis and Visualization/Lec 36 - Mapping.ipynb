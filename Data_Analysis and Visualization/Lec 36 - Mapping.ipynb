{
 "metadata": {
  "name": "",
  "signature": "sha256:1cbff1691ba3e11486592151ba0bcff77747755c22f017caee0d3c9d7759b84b"
 },
 "nbformat": 3,
 "nbformat_minor": 0,
 "worksheets": [
  {
   "cells": [
    {
     "cell_type": "code",
     "collapsed": false,
     "input": [
      "import numpy as np\n",
      "import pandas as pd\n",
      "from pandas import Series, DataFrame"
     ],
     "language": "python",
     "metadata": {},
     "outputs": [],
     "prompt_number": 1
    },
    {
     "cell_type": "code",
     "collapsed": false,
     "input": [
      "# Let's create a dframe to work with (Highest elevation cities in USA)\n",
      "dframe = DataFrame({'city':['Alma','Brian Head','Fox Park'],\n",
      "                    'altitude':[3158,3000,2762]})\n",
      "\n",
      "#Show\n",
      "dframe"
     ],
     "language": "python",
     "metadata": {},
     "outputs": [
      {
       "html": [
        "<div style=\"max-height:1000px;max-width:1500px;overflow:auto;\">\n",
        "<table border=\"1\" class=\"dataframe\">\n",
        "  <thead>\n",
        "    <tr style=\"text-align: right;\">\n",
        "      <th></th>\n",
        "      <th>altitude</th>\n",
        "      <th>city</th>\n",
        "    </tr>\n",
        "  </thead>\n",
        "  <tbody>\n",
        "    <tr>\n",
        "      <th>0</th>\n",
        "      <td> 3158</td>\n",
        "      <td>       Alma</td>\n",
        "    </tr>\n",
        "    <tr>\n",
        "      <th>1</th>\n",
        "      <td> 3000</td>\n",
        "      <td> Brian Head</td>\n",
        "    </tr>\n",
        "    <tr>\n",
        "      <th>2</th>\n",
        "      <td> 2762</td>\n",
        "      <td>   Fox Park</td>\n",
        "    </tr>\n",
        "  </tbody>\n",
        "</table>\n",
        "</div>"
       ],
       "metadata": {},
       "output_type": "pyout",
       "prompt_number": 2,
       "text": [
        "   altitude        city\n",
        "0      3158        Alma\n",
        "1      3000  Brian Head\n",
        "2      2762    Fox Park"
       ]
      }
     ],
     "prompt_number": 2
    },
    {
     "cell_type": "code",
     "collapsed": false,
     "input": [
      "#Now let's say we wanted to add a column for the States, we can do that with a mapping.\n",
      "state_map={'Alma':'Colorado','Brian Head':'Utah','Fox Park':'Wyoming'}\n"
     ],
     "language": "python",
     "metadata": {},
     "outputs": [],
     "prompt_number": 6
    },
    {
     "cell_type": "code",
     "collapsed": false,
     "input": [
      "# Now we can map that data to our current dframe\n",
      "dframe['state'] = dframe['city'].map(state_map)"
     ],
     "language": "python",
     "metadata": {},
     "outputs": [],
     "prompt_number": 7
    },
    {
     "cell_type": "code",
     "collapsed": false,
     "input": [
      "#Show result\n",
      "dframe"
     ],
     "language": "python",
     "metadata": {},
     "outputs": [
      {
       "html": [
        "<div style=\"max-height:1000px;max-width:1500px;overflow:auto;\">\n",
        "<table border=\"1\" class=\"dataframe\">\n",
        "  <thead>\n",
        "    <tr style=\"text-align: right;\">\n",
        "      <th></th>\n",
        "      <th>altitude</th>\n",
        "      <th>city</th>\n",
        "      <th>state</th>\n",
        "    </tr>\n",
        "  </thead>\n",
        "  <tbody>\n",
        "    <tr>\n",
        "      <th>0</th>\n",
        "      <td> 3158</td>\n",
        "      <td>       Alma</td>\n",
        "      <td> Colorado</td>\n",
        "    </tr>\n",
        "    <tr>\n",
        "      <th>1</th>\n",
        "      <td> 3000</td>\n",
        "      <td> Brian Head</td>\n",
        "      <td>     Utah</td>\n",
        "    </tr>\n",
        "    <tr>\n",
        "      <th>2</th>\n",
        "      <td> 2762</td>\n",
        "      <td>   Fox Park</td>\n",
        "      <td>  Wyoming</td>\n",
        "    </tr>\n",
        "  </tbody>\n",
        "</table>\n",
        "</div>"
       ],
       "metadata": {},
       "output_type": "pyout",
       "prompt_number": 8,
       "text": [
        "   altitude        city     state\n",
        "0      3158        Alma  Colorado\n",
        "1      3000  Brian Head      Utah\n",
        "2      2762    Fox Park   Wyoming"
       ]
      }
     ],
     "prompt_number": 8
    },
    {
     "cell_type": "code",
     "collapsed": false,
     "input": [
      "# Mapping is a great way to do element-wise transfomations and other data cleaning operations!"
     ],
     "language": "python",
     "metadata": {},
     "outputs": [],
     "prompt_number": 9
    },
    {
     "cell_type": "code",
     "collapsed": false,
     "input": [
      "# Next up : Replacing Values!"
     ],
     "language": "python",
     "metadata": {},
     "outputs": []
    }
   ],
   "metadata": {}
  }
 ]
}