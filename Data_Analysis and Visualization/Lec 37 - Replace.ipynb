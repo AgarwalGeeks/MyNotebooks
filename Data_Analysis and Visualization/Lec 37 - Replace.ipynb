{
 "metadata": {
  "name": "",
  "signature": "sha256:55609d0e101015296bd00c16afe3c0e3be54e593a7088092d40a32f3e006d1ac"
 },
 "nbformat": 3,
 "nbformat_minor": 0,
 "worksheets": [
  {
   "cells": [
    {
     "cell_type": "code",
     "collapsed": false,
     "input": [
      "import numpy as np\n",
      "import pandas as pd \n",
      "from pandas import Series, DataFrame"
     ],
     "language": "python",
     "metadata": {},
     "outputs": [],
     "prompt_number": 2
    },
    {
     "cell_type": "code",
     "collapsed": false,
     "input": [
      "# Lets make  Series\n",
      "ser1 = Series([1,2,3,4,1,2,3,4])\n",
      "#Show\n",
      "ser1"
     ],
     "language": "python",
     "metadata": {},
     "outputs": [
      {
       "metadata": {},
       "output_type": "pyout",
       "prompt_number": 3,
       "text": [
        "0    1\n",
        "1    2\n",
        "2    3\n",
        "3    4\n",
        "4    1\n",
        "5    2\n",
        "6    3\n",
        "7    4\n",
        "dtype: int64"
       ]
      }
     ],
     "prompt_number": 3
    },
    {
     "cell_type": "code",
     "collapsed": false,
     "input": [
      "# Using replace we can select --> .replace(value to be replaced, new_value)\n",
      "ser1.replace(1,np.nan)"
     ],
     "language": "python",
     "metadata": {},
     "outputs": [
      {
       "metadata": {},
       "output_type": "pyout",
       "prompt_number": 4,
       "text": [
        "0   NaN\n",
        "1     2\n",
        "2     3\n",
        "3     4\n",
        "4   NaN\n",
        "5     2\n",
        "6     3\n",
        "7     4\n",
        "dtype: float64"
       ]
      }
     ],
     "prompt_number": 4
    },
    {
     "cell_type": "code",
     "collapsed": false,
     "input": [
      "#Can also input lists\n",
      "ser1.replace([1,4],[100,400])"
     ],
     "language": "python",
     "metadata": {},
     "outputs": [
      {
       "metadata": {},
       "output_type": "pyout",
       "prompt_number": 5,
       "text": [
        "0    100\n",
        "1      2\n",
        "2      3\n",
        "3    400\n",
        "4    100\n",
        "5      2\n",
        "6      3\n",
        "7    400\n",
        "dtype: int64"
       ]
      }
     ],
     "prompt_number": 5
    },
    {
     "cell_type": "code",
     "collapsed": false,
     "input": [
      "#Can also input dictionary\n",
      "ser1.replace({4:np.nan})"
     ],
     "language": "python",
     "metadata": {},
     "outputs": [
      {
       "metadata": {},
       "output_type": "pyout",
       "prompt_number": 15,
       "text": [
        "0     1\n",
        "1     2\n",
        "2     3\n",
        "3   NaN\n",
        "4     1\n",
        "5     2\n",
        "6     3\n",
        "7   NaN\n",
        "dtype: float64"
       ]
      }
     ],
     "prompt_number": 15
    },
    {
     "cell_type": "code",
     "collapsed": false,
     "input": [
      "#That's it for replace, next up Renaming an axis index"
     ],
     "language": "python",
     "metadata": {},
     "outputs": []
    }
   ],
   "metadata": {}
  }
 ]
}