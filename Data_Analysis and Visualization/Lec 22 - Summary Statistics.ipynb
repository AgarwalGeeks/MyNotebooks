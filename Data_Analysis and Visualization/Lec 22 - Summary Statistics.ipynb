{

 "metadata": {

  "name": "",

  "signature": "sha256:2ad430378a438d83412dbd6efb336133f07d6e3334df3ac8a8035a43e0f1ae25"

 },

 "nbformat": 3,

 "nbformat_minor": 0,

 "worksheets": [

  {

   "cells": [

    {

     "cell_type": "code",

     "collapsed": false,

     "input": [

      "#Now we'll learn about pandas built-in methods of summarizing data founr in DataFrames\n",

      "import numpy as np\n",

      "from pandas import Series,DataFrame\n",

      "import pandas as pd"

     ],

     "language": "python",

     "metadata": {},

     "outputs": [],

     "prompt_number": 1

    },

    {

     "cell_type": "code",

     "collapsed": false,

     "input": [

      "#Let's create a dataframe to work with\n",

      "arr = np.array([[1,2,np.nan],[np.nan,3,4]])\n",

      "dframe1 = DataFrame(arr,index=['A','B'],columns = ['One','Two','Three'])\n",

      "\n",

      "#Show\n",

      "dframe1"

     ],

     "language": "python",

     "metadata": {},

     "outputs": [

      {

       "html": [

        "<div style=\"max-height:1000px;max-width:1500px;overflow:auto;\">\n",

        "<table border=\"1\" class=\"dataframe\">\n",

        "  <thead>\n",

        "    <tr style=\"text-align: right;\">\n",

        "      <th></th>\n",

        "      <th>One</th>\n",

        "      <th>Two</th>\n",

        "      <th>Three</th>\n",

        "    </tr>\n",

        "  </thead>\n",

        "  <tbody>\n",

        "    <tr>\n",

        "      <th>A</th>\n",

        "      <td>  1</td>\n",

        "      <td> 2</td>\n",

        "      <td>NaN</td>\n",

        "    </tr>\n",

        "    <tr>\n",

        "      <th>B</th>\n",

        "      <td>NaN</td>\n",

        "      <td> 3</td>\n",

        "      <td>  4</td>\n",

        "    </tr>\n",

        "  </tbody>\n",

        "</table>\n",

        "</div>"

       ],

       "metadata": {},

       "output_type": "pyout",

       "prompt_number": 3,

       "text": [

        "   One  Two  Three\n",

        "A    1    2    NaN\n",

        "B  NaN    3      4"

       ]

      }

     ],

     "prompt_number": 3

    },

    {

     "cell_type": "code",

     "collapsed": false,

     "input": [

      "#Let's see the sum() method in action\n",

      "dframe1.sum()"

     ],

     "language": "python",

     "metadata": {},

     "outputs": [

      {

       "metadata": {},

       "output_type": "pyout",

       "prompt_number": 4,

       "text": [

        "One      1\n",

        "Two      5\n",

        "Three    4\n",

        "dtype: float64"

       ]

      }

     ],

     "prompt_number": 4

    },

    {

     "cell_type": "code",

     "collapsed": false,

     "input": [

      "#Notice how it ignores NaN values"

     ],

     "language": "python",

     "metadata": {},

     "outputs": [],

     "prompt_number": 5

    },

    {

     "cell_type": "code",

     "collapsed": false,

     "input": [

      "#We can also over rows instead of columns\n",

      "dframe1.sum(axis=1)"

     ],

     "language": "python",

     "metadata": {},

     "outputs": [

      {

       "metadata": {},

       "output_type": "pyout",

       "prompt_number": 6,

       "text": [

        "A    3\n",

        "B    7\n",

        "dtype: float64"

       ]

      }

     ],

     "prompt_number": 6

    },

    {

     "cell_type": "code",

     "collapsed": false,

     "input": [

      "#Can also grab min and max values of dataframe\n",

      "dframe1.min()"

     ],

     "language": "python",

     "metadata": {},

     "outputs": [

      {

       "metadata": {},

       "output_type": "pyout",

       "prompt_number": 7,

       "text": [

        "One      1\n",

        "Two      2\n",

        "Three    4\n",

        "dtype: float64"

       ]

      }

     ],

     "prompt_number": 7

    },

    {

     "cell_type": "code",

     "collapsed": false,

     "input": [

      "#As well as there index\n",

      "dframe1.idxmin()"

     ],

     "language": "python",

     "metadata": {},

     "outputs": [

      {

       "metadata": {},

       "output_type": "pyout",

       "prompt_number": 8,

       "text": [

        "One      A\n",

        "Two      A\n",

        "Three    B\n",

        "dtype: object"

       ]

      }

     ],

     "prompt_number": 8

    },

    {

     "cell_type": "code",

     "collapsed": false,

     "input": [

      "#Same deal with max, just replace min for max"

     ],

     "language": "python",

     "metadata": {},

     "outputs": [],

     "prompt_number": 9

    },

    {

     "cell_type": "code",

     "collapsed": false,

     "input": [

      "#Show\n",

      "dframe1"

     ],

     "language": "python",

     "metadata": {},

     "outputs": [

      {

       "html": [

        "<div style=\"max-height:1000px;max-width:1500px;overflow:auto;\">\n",

        "<table border=\"1\" class=\"dataframe\">\n",

        "  <thead>\n",

        "    <tr style=\"text-align: right;\">\n",

        "      <th></th>\n",

        "      <th>One</th>\n",

        "      <th>Two</th>\n",

        "      <th>Three</th>\n",

        "    </tr>\n",

        "  </thead>\n",

        "  <tbody>\n",

        "    <tr>\n",

        "      <th>A</th>\n",

        "      <td>  1</td>\n",

        "      <td> 2</td>\n",

        "      <td>NaN</td>\n",

        "    </tr>\n",

        "    <tr>\n",

        "      <th>B</th>\n",

        "      <td>NaN</td>\n",

        "      <td> 3</td>\n",

        "      <td>  4</td>\n",

        "    </tr>\n",

        "  </tbody>\n",

        "</table>\n",

        "</div>"

       ],

       "metadata": {},

       "output_type": "pyout",

       "prompt_number": 10,

       "text": [

        "   One  Two  Three\n",

        "A    1    2    NaN\n",

        "B  NaN    3      4"

       ]

      }

     ],

     "prompt_number": 10

    },

    {

     "cell_type": "code",

     "collapsed": false,

     "input": [

      "#Can also do an accumulation sum\n",

      "dframe1.cumsum()"

     ],

     "language": "python",

     "metadata": {},

     "outputs": [

      {

       "html": [

        "<div style=\"max-height:1000px;max-width:1500px;overflow:auto;\">\n",

        "<table border=\"1\" class=\"dataframe\">\n",

        "  <thead>\n",

        "    <tr style=\"text-align: right;\">\n",

        "      <th></th>\n",

        "      <th>One</th>\n",

        "      <th>Two</th>\n",

        "      <th>Three</th>\n",

        "    </tr>\n",

        "  </thead>\n",

        "  <tbody>\n",

        "    <tr>\n",

        "      <th>A</th>\n",

        "      <td>  1</td>\n",

        "      <td> 2</td>\n",

        "      <td>NaN</td>\n",

        "    </tr>\n",

        "    <tr>\n",

        "      <th>B</th>\n",

        "      <td>NaN</td>\n",

        "      <td> 5</td>\n",

        "      <td>  4</td>\n",

        "    </tr>\n",

        "  </tbody>\n",

        "</table>\n",

        "</div>"

       ],

       "metadata": {},

       "output_type": "pyout",

       "prompt_number": 11,

       "text": [

        "   One  Two  Three\n",

        "A    1    2    NaN\n",

        "B  NaN    5      4"

       ]

      }

     ],

     "prompt_number": 11

    },

    {

     "cell_type": "code",

     "collapsed": false,

     "input": [

      "#A very useful feature is describe, which provides summary statistics\n",

      "dframe1.describe()"

     ],

     "language": "python",

     "metadata": {},

     "outputs": [

      {

       "html": [

        "<div style=\"max-height:1000px;max-width:1500px;overflow:auto;\">\n",

        "<table border=\"1\" class=\"dataframe\">\n",

        "  <thead>\n",

        "    <tr style=\"text-align: right;\">\n",

        "      <th></th>\n",

        "      <th>One</th>\n",

        "      <th>Two</th>\n",

        "      <th>Three</th>\n",

        "    </tr>\n",

        "  </thead>\n",

        "  <tbody>\n",

        "    <tr>\n",

        "      <th>count</th>\n",

        "      <td>  1</td>\n",

        "      <td> 2.000000</td>\n",

        "      <td>  1</td>\n",

        "    </tr>\n",

        "    <tr>\n",

        "      <th>mean</th>\n",

        "      <td>  1</td>\n",

        "      <td> 2.500000</td>\n",

        "      <td>  4</td>\n",

        "    </tr>\n",

        "    <tr>\n",

        "      <th>std</th>\n",

        "      <td>NaN</td>\n",

        "      <td> 0.707107</td>\n",

        "      <td>NaN</td>\n",

        "    </tr>\n",

        "    <tr>\n",

        "      <th>min</th>\n",

        "      <td>  1</td>\n",

        "      <td> 2.000000</td>\n",

        "      <td>  4</td>\n",

        "    </tr>\n",

        "    <tr>\n",

        "      <th>25%</th>\n",

        "      <td>  1</td>\n",

        "      <td> 2.250000</td>\n",

        "      <td>  4</td>\n",

        "    </tr>\n",

        "    <tr>\n",

        "      <th>50%</th>\n",

        "      <td>  1</td>\n",

        "      <td> 2.500000</td>\n",

        "      <td>  4</td>\n",

        "    </tr>\n",

        "    <tr>\n",

        "      <th>75%</th>\n",

        "      <td>  1</td>\n",

        "      <td> 2.750000</td>\n",

        "      <td>  4</td>\n",

        "    </tr>\n",

        "    <tr>\n",

        "      <th>max</th>\n",

        "      <td>  1</td>\n",

        "      <td> 3.000000</td>\n",

        "      <td>  4</td>\n",

        "    </tr>\n",

        "  </tbody>\n",

        "</table>\n",

        "</div>"

       ],

       "metadata": {},

       "output_type": "pyout",

       "prompt_number": 12,

       "text": [

        "       One       Two  Three\n",

        "count    1  2.000000      1\n",

        "mean     1  2.500000      4\n",

        "std    NaN  0.707107    NaN\n",

        "min      1  2.000000      4\n",

        "25%      1  2.250000      4\n",

        "50%      1  2.500000      4\n",

        "75%      1  2.750000      4\n",

        "max      1  3.000000      4"

       ]

      }

     ],

     "prompt_number": 12

    },

    {

     "cell_type": "code",

     "collapsed": false,

     "input": [

      "# We can also get information on correlation and covariance\n",

      "\n",

      "#For more info on correlation and covariance, check out the videos below!"

     ],

     "language": "python",

     "metadata": {},

     "outputs": [],

     "prompt_number": 13

    },

    {

     "cell_type": "code",

     "collapsed": false,

     "input": [

      "from IPython.display import YouTubeVideo\n",

      "# For more information about Covariaance and Correlation\n",

      "# Check out these great videos!\n",

      "# Video credit: Brandon Foltz.\n",

      "\n",

      "#CoVariance\n",

      "YouTubeVideo('xGbpuFNR1ME')"

     ],

     "language": "python",

     "metadata": {},

     "outputs": [

      {

       "html": [

        "\n",

        "        <iframe\n",

        "            width=\"400\"\n",

        "            height=300\"\n",

        "            src=\"https://www.youtube.com/embed/xGbpuFNR1ME\"\n",

        "            frameborder=\"0\"\n",

        "            allowfullscreen\n",

        "        ></iframe>\n",

        "        "

       ],

       "metadata": {},

       "output_type": "pyout",

       "prompt_number": 14,

       "text": [

        "<IPython.lib.display.YouTubeVideo at 0xa9a1a58>"

       ]

      }

     ],

     "prompt_number": 14

    },

    {

     "cell_type": "code",

     "collapsed": false,

     "input": [

      "#Correlation\n",

      "YouTubeVideo('4EXNedimDMs')"

     ],

     "language": "python",

     "metadata": {},

     "outputs": [

      {

       "html": [

        "\n",

        "        <iframe\n",

        "            width=\"400\"\n",

        "            height=300\"\n",

        "            src=\"https://www.youtube.com/embed/4EXNedimDMs\"\n",

        "            frameborder=\"0\"\n",

        "            allowfullscreen\n",

        "        ></iframe>\n",

        "        "

       ],

       "metadata": {},

       "output_type": "pyout",

       "prompt_number": 15,

       "text": [

        "<IPython.lib.display.YouTubeVideo at 0xa9a1940>"

       ]

      }

     ],

     "prompt_number": 15

    },

    {

     "cell_type": "code",

     "collapsed": false,

     "input": [

      "#Now lets check correlation and covariance on some stock prices!\n",

      "\n",

      "#Pandas can get info off the web\n",

      "import pandas.io.data as pdweb\n",

      "\n",

      "#Set datetime for date input\n",

      "import datetime\n",

      "\n",

      "#Get the closing prices\n",

      "\n",

      "prices = pdweb.get_data_yahoo(['CVX','XOM','BP'], \n",

      "                               start=datetime.datetime(2010, 1, 1), \n",

      "                               end=datetime.datetime(2013, 1, 1))['Adj Close']\n",

      "#Show preview\n",

      "prices.head()"

     ],

     "language": "python",

     "metadata": {},

     "outputs": [

      {

       "html": [

        "<div style=\"max-height:1000px;max-width:1500px;overflow:auto;\">\n",

        "<table border=\"1\" class=\"dataframe\">\n",

        "  <thead>\n",

        "    <tr style=\"text-align: right;\">\n",

        "      <th></th>\n",

        "      <th>BP</th>\n",

        "      <th>CVX</th>\n",

        "      <th>XOM</th>\n",

        "    </tr>\n",

        "    <tr>\n",

        "      <th>Date</th>\n",

        "      <th></th>\n",

        "      <th></th>\n",

        "      <th></th>\n",

        "    </tr>\n",

        "  </thead>\n",

        "  <tbody>\n",

        "    <tr>\n",

        "      <th>2010-01-04</th>\n",

        "      <td> 46.97</td>\n",

        "      <td> 66.17</td>\n",

        "      <td> 60.26</td>\n",

        "    </tr>\n",

        "    <tr>\n",

        "      <th>2010-01-05</th>\n",

        "      <td> 47.30</td>\n",

        "      <td> 66.63</td>\n",

        "      <td> 60.50</td>\n",

        "    </tr>\n",

        "    <tr>\n",

        "      <th>2010-01-06</th>\n",

        "      <td> 47.55</td>\n",

        "      <td> 66.64</td>\n",

        "      <td> 61.02</td>\n",

        "    </tr>\n",

        "    <tr>\n",

        "      <th>2010-01-07</th>\n",

        "      <td> 47.53</td>\n",

        "      <td> 66.39</td>\n",

        "      <td> 60.83</td>\n",

        "    </tr>\n",

        "    <tr>\n",

        "      <th>2010-01-08</th>\n",

        "      <td> 47.64</td>\n",

        "      <td> 66.51</td>\n",

        "      <td> 60.59</td>\n",

        "    </tr>\n",

        "  </tbody>\n",

        "</table>\n",

        "</div>"

       ],

       "metadata": {},

       "output_type": "pyout",

       "prompt_number": 16,

       "text": [

        "               BP    CVX    XOM\n",

        "Date                           \n",

        "2010-01-04  46.97  66.17  60.26\n",

        "2010-01-05  47.30  66.63  60.50\n",

        "2010-01-06  47.55  66.64  61.02\n",

        "2010-01-07  47.53  66.39  60.83\n",

        "2010-01-08  47.64  66.51  60.59"

       ]

      }

     ],

     "prompt_number": 16

    },

    {

     "cell_type": "code",

     "collapsed": false,

     "input": [

      "#Now lets get the volume trades\n",

      "\n",

      "volume = pdweb.get_data_yahoo(['CVX','XOM','BP'], \n",

      "                               start=datetime.datetime(2010, 1, 1), \n",

      "                               end=datetime.datetime(2013, 1, 1))['Volume']\n",

      "\n",

      "#Show preview\n",

      "volume.head()"

     ],

     "language": "python",

     "metadata": {},

     "outputs": [

      {

       "html": [

        "<div style=\"max-height:1000px;max-width:1500px;overflow:auto;\">\n",

        "<table border=\"1\" class=\"dataframe\">\n",

        "  <thead>\n",

        "    <tr style=\"text-align: right;\">\n",

        "      <th></th>\n",

        "      <th>BP</th>\n",

        "      <th>CVX</th>\n",

        "      <th>XOM</th>\n",

        "    </tr>\n",

        "    <tr>\n",

        "      <th>Date</th>\n",

        "      <th></th>\n",

        "      <th></th>\n",

        "      <th></th>\n",

        "    </tr>\n",

        "  </thead>\n",

        "  <tbody>\n",

        "    <tr>\n",

        "      <th>2010-01-04</th>\n",

        "      <td> 3956100</td>\n",

        "      <td> 10173800</td>\n",

        "      <td> 27809100</td>\n",

        "    </tr>\n",

        "    <tr>\n",

        "      <th>2010-01-05</th>\n",

        "      <td> 4109600</td>\n",

        "      <td> 10593700</td>\n",

        "      <td> 30174700</td>\n",

        "    </tr>\n",

        "    <tr>\n",

        "      <th>2010-01-06</th>\n",

        "      <td> 6227900</td>\n",

        "      <td> 11014600</td>\n",

        "      <td> 35044700</td>\n",

        "    </tr>\n",

        "    <tr>\n",

        "      <th>2010-01-07</th>\n",

        "      <td> 4431300</td>\n",

        "      <td>  9626900</td>\n",

        "      <td> 27192100</td>\n",

        "    </tr>\n",

        "    <tr>\n",

        "      <th>2010-01-08</th>\n",

        "      <td> 3786100</td>\n",

        "      <td>  5624300</td>\n",

        "      <td> 24891800</td>\n",

        "    </tr>\n",

        "  </tbody>\n",

        "</table>\n",

        "</div>"

       ],

       "metadata": {},

       "output_type": "pyout",

       "prompt_number": 17,

       "text": [

        "                 BP       CVX       XOM\n",

        "Date                                   \n",

        "2010-01-04  3956100  10173800  27809100\n",

        "2010-01-05  4109600  10593700  30174700\n",

        "2010-01-06  6227900  11014600  35044700\n",

        "2010-01-07  4431300   9626900  27192100\n",

        "2010-01-08  3786100   5624300  24891800"

       ]

      }

     ],

     "prompt_number": 17

    },

    {

     "cell_type": "code",

     "collapsed": false,

     "input": [

      "#Lets get the return\n",

      "rets = prices.pct_change()"

     ],

     "language": "python",

     "metadata": {},

     "outputs": [],

     "prompt_number": 18

    },

    {

     "cell_type": "code",

     "collapsed": false,

     "input": [

      "#Get the correlation of the stocks\n",

      "corr = rets.corr"

     ],

     "language": "python",

     "metadata": {},

     "outputs": [],

     "prompt_number": 23

    },

    {

     "cell_type": "code",

     "collapsed": false,

     "input": [

      "#Lets see the prices over time to get a very rough idea of the correlation between the stock prices\n",

      "prices.plot()"

     ],

     "language": "python",

     "metadata": {},

     "outputs": [

      {

       "metadata": {},

       "output_type": "pyout",

       "prompt_number": 24,

       "text": [

        "<matplotlib.axes._subplots.AxesSubplot at 0x1aa126a0>"

       ]

      },

      {

       "metadata": {},

       "output_type": "display_data",

       "png": "[encoded data removed]",

       "text": [

        "<matplotlib.figure.Figure at 0x1aa085f8>"

       ]

      }

     ],

     "prompt_number": 24

    },

    {

     "cell_type": "code",

     "collapsed": false,

     "input": [

      "import seaborn as sns\n",

      "import matplotlib.pyplot as plt\n",

      "%matplotlib inline\n",

      "\n",

      "#As expected pretty strong correlations with eachother\n",

      "sns.heatmap(rets.corr())\n",

      "\n",

      "#We'll learn much more about seaborn later!"

     ],

     "language": "python",

     "metadata": {},

     "outputs": [

      {

       "metadata": {},

       "output_type": "pyout",

       "prompt_number": 20,

       "text": [

        "<matplotlib.axes._subplots.AxesSubplot at 0x18b63a58>"

       ]

      },

      {

       "metadata": {},

       "output_type": "display_data",

       "png": "[encoded data removed]",

       "text": [

        "<matplotlib.figure.Figure at 0x18b63550>"

       ]

      }

     ],

     "prompt_number": 20

    },

    {

     "cell_type": "code",

     "collapsed": false,

     "input": [

      "# We can also check for unique values and their counts \n",

      "\n",

      "#For example\n",

      "ser1 = Series(['w','w','x', 'y', 'z' ,'w' ,'w' ,'x' ,'x' ,'y' ,'a' ,'z' ])\n",

      "\n",

      "#Show\n",

      "ser1"

     ],

     "language": "python",

     "metadata": {},

     "outputs": [

      {

       "metadata": {},

       "output_type": "pyout",

       "prompt_number": 2,

       "text": [

        "0     w\n",

        "1     w\n",

        "2     x\n",

        "3     y\n",

        "4     z\n",

        "5     w\n",

        "6     w\n",

        "7     x\n",

        "8     x\n",

        "9     y\n",

        "10    a\n",

        "11    z\n",

        "dtype: object"

       ]

      }

     ],

     "prompt_number": 2

    },

    {

     "cell_type": "code",

     "collapsed": false,

     "input": [

      "#Grab the unique values\n",

      "ser1.unique()"

     ],

     "language": "python",

     "metadata": {},

     "outputs": [

      {

       "metadata": {},

       "output_type": "pyout",

       "prompt_number": 3,

       "text": [

        "array(['w', 'x', 'y', 'z', 'a'], dtype=object)"

       ]

      }

     ],

     "prompt_number": 3

    },

    {

     "cell_type": "code",

     "collapsed": false,

     "input": [

      "#Now get the count of the unique values\n",

      "ser1.value_counts()"

     ],

     "language": "python",

     "metadata": {},

     "outputs": [

      {

       "metadata": {},

       "output_type": "pyout",

       "prompt_number": 4,

       "text": [

        "w    4\n",

        "x    3\n",

        "z    2\n",

        "y    2\n",

        "a    1\n",

        "dtype: int64"

       ]

      }

     ],

     "prompt_number": 4

    },

    {

     "cell_type": "code",

     "collapsed": false,

     "input": [

      "#Next we'll learn how to best deal with missing data!"

     ],

     "language": "python",

     "metadata": {},

     "outputs": []

    }

   ],

   "metadata": {}

  }

 ]

}
