{
 "metadata": {
  "name": "",
  "signature": "sha256:d9a58f58833ac4eb6009b27c1001cf38ee17ff2d08476589f29168aa7ff6069a"
 },
 "nbformat": 3,
 "nbformat_minor": 0,
 "worksheets": [
  {
   "cells": [
    {
     "cell_type": "markdown",
     "metadata": {},
     "source": [
      "To install file the directions at the following link, you should be able to use a simple pip install.\n",
      "Remember to install the dependencies!"
     ]
    },
    {
     "cell_type": "markdown",
     "metadata": {},
     "source": [
      "http://stanford.edu/~mwaskom/software/seaborn/installing.html"
     ]
    },
    {
     "cell_type": "code",
     "collapsed": false,
     "input": [],
     "language": "python",
     "metadata": {},
     "outputs": []
    }
   ],
   "metadata": {}
  }
 ]
}