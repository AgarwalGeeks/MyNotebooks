{
 "metadata": {
  "name": "",
  "signature": "sha256:a4b437f2de68773e1510464fd224b51c0e841ca549f0434fc3d8c36f9b0be6eb"
 },
 "nbformat": 3,
 "nbformat_minor": 0,
 "worksheets": [
  {
   "cells": [
    {
     "cell_type": "code",
     "collapsed": false,
     "input": [
      "import numpy as np\n",
      "from pandas import Series,DataFrame\n",
      "import pandas as pd"
     ],
     "language": "python",
     "metadata": {},
     "outputs": [],
     "prompt_number": 2
    },
    {
     "cell_type": "code",
     "collapsed": false,
     "input": [
      "# Can open csv files as a dataframe\n",
      "dframe = pd.read_csv('lec25.csv')\n",
      "\n",
      "#Show\n",
      "dframe"
     ],
     "language": "python",
     "metadata": {},
     "outputs": [
      {
       "html": [
        "<div style=\"max-height:1000px;max-width:1500px;overflow:auto;\">\n",
        "<table border=\"1\" class=\"dataframe\">\n",
        "  <thead>\n",
        "    <tr style=\"text-align: right;\">\n",
        "      <th></th>\n",
        "      <th>q</th>\n",
        "      <th>r</th>\n",
        "      <th>s</th>\n",
        "      <th>t</th>\n",
        "      <th>apple</th>\n",
        "    </tr>\n",
        "  </thead>\n",
        "  <tbody>\n",
        "    <tr>\n",
        "      <th>0</th>\n",
        "      <td> 2</td>\n",
        "      <td> 3</td>\n",
        "      <td> 4</td>\n",
        "      <td> 5</td>\n",
        "      <td>   pear</td>\n",
        "    </tr>\n",
        "    <tr>\n",
        "      <th>1</th>\n",
        "      <td> a</td>\n",
        "      <td> s</td>\n",
        "      <td> d</td>\n",
        "      <td> f</td>\n",
        "      <td> rabbit</td>\n",
        "    </tr>\n",
        "    <tr>\n",
        "      <th>2</th>\n",
        "      <td> 5</td>\n",
        "      <td> 2</td>\n",
        "      <td> 5</td>\n",
        "      <td> 7</td>\n",
        "      <td>    dog</td>\n",
        "    </tr>\n",
        "  </tbody>\n",
        "</table>\n",
        "</div>"
       ],
       "metadata": {},
       "output_type": "pyout",
       "prompt_number": 3,
       "text": [
        "   q  r  s  t   apple\n",
        "0  2  3  4  5    pear\n",
        "1  a  s  d  f  rabbit\n",
        "2  5  2  5  7     dog"
       ]
      }
     ],
     "prompt_number": 3
    },
    {
     "cell_type": "code",
     "collapsed": false,
     "input": [
      "# Can also use read_table with ',' as a delimiter\n",
      "dframe = pd.read_table('lec25.csv',sep=',')\n",
      "\n",
      "#Show\n",
      "dframe"
     ],
     "language": "python",
     "metadata": {},
     "outputs": [
      {
       "html": [
        "<div style=\"max-height:1000px;max-width:1500px;overflow:auto;\">\n",
        "<table border=\"1\" class=\"dataframe\">\n",
        "  <thead>\n",
        "    <tr style=\"text-align: right;\">\n",
        "      <th></th>\n",
        "      <th>q</th>\n",
        "      <th>r</th>\n",
        "      <th>s</th>\n",
        "      <th>t</th>\n",
        "      <th>apple</th>\n",
        "    </tr>\n",
        "  </thead>\n",
        "  <tbody>\n",
        "    <tr>\n",
        "      <th>0</th>\n",
        "      <td> 2</td>\n",
        "      <td> 3</td>\n",
        "      <td> 4</td>\n",
        "      <td> 5</td>\n",
        "      <td>   pear</td>\n",
        "    </tr>\n",
        "    <tr>\n",
        "      <th>1</th>\n",
        "      <td> a</td>\n",
        "      <td> s</td>\n",
        "      <td> d</td>\n",
        "      <td> f</td>\n",
        "      <td> rabbit</td>\n",
        "    </tr>\n",
        "    <tr>\n",
        "      <th>2</th>\n",
        "      <td> 5</td>\n",
        "      <td> 2</td>\n",
        "      <td> 5</td>\n",
        "      <td> 7</td>\n",
        "      <td>    dog</td>\n",
        "    </tr>\n",
        "  </tbody>\n",
        "</table>\n",
        "</div>"
       ],
       "metadata": {},
       "output_type": "pyout",
       "prompt_number": 4,
       "text": [
        "   q  r  s  t   apple\n",
        "0  2  3  4  5    pear\n",
        "1  a  s  d  f  rabbit\n",
        "2  5  2  5  7     dog"
       ]
      }
     ],
     "prompt_number": 4
    },
    {
     "cell_type": "code",
     "collapsed": false,
     "input": [
      "dframe"
     ],
     "language": "python",
     "metadata": {},
     "outputs": [
      {
       "html": [
        "<div style=\"max-height:1000px;max-width:1500px;overflow:auto;\">\n",
        "<table border=\"1\" class=\"dataframe\">\n",
        "  <thead>\n",
        "    <tr style=\"text-align: right;\">\n",
        "      <th></th>\n",
        "      <th>q</th>\n",
        "      <th>r</th>\n",
        "      <th>s</th>\n",
        "      <th>t</th>\n",
        "      <th>apple</th>\n",
        "    </tr>\n",
        "  </thead>\n",
        "  <tbody>\n",
        "    <tr>\n",
        "      <th>0</th>\n",
        "      <td> 2</td>\n",
        "      <td> 3</td>\n",
        "      <td> 4</td>\n",
        "      <td> 5</td>\n",
        "      <td>   pear</td>\n",
        "    </tr>\n",
        "    <tr>\n",
        "      <th>1</th>\n",
        "      <td> a</td>\n",
        "      <td> s</td>\n",
        "      <td> d</td>\n",
        "      <td> f</td>\n",
        "      <td> rabbit</td>\n",
        "    </tr>\n",
        "    <tr>\n",
        "      <th>2</th>\n",
        "      <td> 5</td>\n",
        "      <td> 2</td>\n",
        "      <td> 5</td>\n",
        "      <td> 7</td>\n",
        "      <td>    dog</td>\n",
        "    </tr>\n",
        "  </tbody>\n",
        "</table>\n",
        "</div>"
       ],
       "metadata": {},
       "output_type": "pyout",
       "prompt_number": 5,
       "text": [
        "   q  r  s  t   apple\n",
        "0  2  3  4  5    pear\n",
        "1  a  s  d  f  rabbit\n",
        "2  5  2  5  7     dog"
       ]
      }
     ],
     "prompt_number": 5
    },
    {
     "cell_type": "code",
     "collapsed": false,
     "input": [
      "#If we dont want the header to be the first row\n",
      "dframe = pd.read_csv('lec25.csv',header=None)\n",
      "\n",
      "#Show\n",
      "dframe"
     ],
     "language": "python",
     "metadata": {},
     "outputs": [
      {
       "html": [
        "<div style=\"max-height:1000px;max-width:1500px;overflow:auto;\">\n",
        "<table border=\"1\" class=\"dataframe\">\n",
        "  <thead>\n",
        "    <tr style=\"text-align: right;\">\n",
        "      <th></th>\n",
        "      <th>0</th>\n",
        "      <th>1</th>\n",
        "      <th>2</th>\n",
        "      <th>3</th>\n",
        "      <th>4</th>\n",
        "    </tr>\n",
        "  </thead>\n",
        "  <tbody>\n",
        "    <tr>\n",
        "      <th>0</th>\n",
        "      <td> q</td>\n",
        "      <td> r</td>\n",
        "      <td> s</td>\n",
        "      <td> t</td>\n",
        "      <td>  apple</td>\n",
        "    </tr>\n",
        "    <tr>\n",
        "      <th>1</th>\n",
        "      <td> 2</td>\n",
        "      <td> 3</td>\n",
        "      <td> 4</td>\n",
        "      <td> 5</td>\n",
        "      <td>   pear</td>\n",
        "    </tr>\n",
        "    <tr>\n",
        "      <th>2</th>\n",
        "      <td> a</td>\n",
        "      <td> s</td>\n",
        "      <td> d</td>\n",
        "      <td> f</td>\n",
        "      <td> rabbit</td>\n",
        "    </tr>\n",
        "    <tr>\n",
        "      <th>3</th>\n",
        "      <td> 5</td>\n",
        "      <td> 2</td>\n",
        "      <td> 5</td>\n",
        "      <td> 7</td>\n",
        "      <td>    dog</td>\n",
        "    </tr>\n",
        "  </tbody>\n",
        "</table>\n",
        "</div>"
       ],
       "metadata": {},
       "output_type": "pyout",
       "prompt_number": 6,
       "text": [
        "   0  1  2  3       4\n",
        "0  q  r  s  t   apple\n",
        "1  2  3  4  5    pear\n",
        "2  a  s  d  f  rabbit\n",
        "3  5  2  5  7     dog"
       ]
      }
     ],
     "prompt_number": 6
    },
    {
     "cell_type": "code",
     "collapsed": false,
     "input": [
      "# We can also indicate a particular number of rows to be read\n",
      "pd.read_csv('lec25.csv',header=None,nrows=2)"
     ],
     "language": "python",
     "metadata": {},
     "outputs": [
      {
       "html": [
        "<div style=\"max-height:1000px;max-width:1500px;overflow:auto;\">\n",
        "<table border=\"1\" class=\"dataframe\">\n",
        "  <thead>\n",
        "    <tr style=\"text-align: right;\">\n",
        "      <th></th>\n",
        "      <th>0</th>\n",
        "      <th>1</th>\n",
        "      <th>2</th>\n",
        "      <th>3</th>\n",
        "      <th>4</th>\n",
        "    </tr>\n",
        "  </thead>\n",
        "  <tbody>\n",
        "    <tr>\n",
        "      <th>0</th>\n",
        "      <td> q</td>\n",
        "      <td> r</td>\n",
        "      <td> s</td>\n",
        "      <td> t</td>\n",
        "      <td> apple</td>\n",
        "    </tr>\n",
        "    <tr>\n",
        "      <th>1</th>\n",
        "      <td> 2</td>\n",
        "      <td> 3</td>\n",
        "      <td> 4</td>\n",
        "      <td> 5</td>\n",
        "      <td>  pear</td>\n",
        "    </tr>\n",
        "  </tbody>\n",
        "</table>\n",
        "</div>"
       ],
       "metadata": {},
       "output_type": "pyout",
       "prompt_number": 7,
       "text": [
        "   0  1  2  3      4\n",
        "0  q  r  s  t  apple\n",
        "1  2  3  4  5   pear"
       ]
      }
     ],
     "prompt_number": 7
    },
    {
     "cell_type": "code",
     "collapsed": false,
     "input": [
      "# Let's see dframe again\n",
      "dframe"
     ],
     "language": "python",
     "metadata": {},
     "outputs": [
      {
       "html": [
        "<div style=\"max-height:1000px;max-width:1500px;overflow:auto;\">\n",
        "<table border=\"1\" class=\"dataframe\">\n",
        "  <thead>\n",
        "    <tr style=\"text-align: right;\">\n",
        "      <th></th>\n",
        "      <th>0</th>\n",
        "      <th>1</th>\n",
        "      <th>2</th>\n",
        "      <th>3</th>\n",
        "      <th>4</th>\n",
        "    </tr>\n",
        "  </thead>\n",
        "  <tbody>\n",
        "    <tr>\n",
        "      <th>0</th>\n",
        "      <td> q</td>\n",
        "      <td> r</td>\n",
        "      <td> s</td>\n",
        "      <td> t</td>\n",
        "      <td>  apple</td>\n",
        "    </tr>\n",
        "    <tr>\n",
        "      <th>1</th>\n",
        "      <td> 2</td>\n",
        "      <td> 3</td>\n",
        "      <td> 4</td>\n",
        "      <td> 5</td>\n",
        "      <td>   pear</td>\n",
        "    </tr>\n",
        "    <tr>\n",
        "      <th>2</th>\n",
        "      <td> a</td>\n",
        "      <td> s</td>\n",
        "      <td> d</td>\n",
        "      <td> f</td>\n",
        "      <td> rabbit</td>\n",
        "    </tr>\n",
        "    <tr>\n",
        "      <th>3</th>\n",
        "      <td> 5</td>\n",
        "      <td> 2</td>\n",
        "      <td> 5</td>\n",
        "      <td> 7</td>\n",
        "      <td>    dog</td>\n",
        "    </tr>\n",
        "  </tbody>\n",
        "</table>\n",
        "</div>"
       ],
       "metadata": {},
       "output_type": "pyout",
       "prompt_number": 8,
       "text": [
        "   0  1  2  3       4\n",
        "0  q  r  s  t   apple\n",
        "1  2  3  4  5    pear\n",
        "2  a  s  d  f  rabbit\n",
        "3  5  2  5  7     dog"
       ]
      }
     ],
     "prompt_number": 8
    },
    {
     "cell_type": "code",
     "collapsed": false,
     "input": [
      "# Now let's see how we can write DataFrames out to text files\n",
      "dframe.to_csv('mytextdata_out.csv')\n",
      "\n",
      "#You'll see this file where you're ipython Notebooks are saved (Usually under my documents)"
     ],
     "language": "python",
     "metadata": {},
     "outputs": [],
     "prompt_number": 10
    },
    {
     "cell_type": "code",
     "collapsed": false,
     "input": [
      "#  We can also use other delimiters\n",
      "\n",
      "#we'll import sys to see the output\n",
      "import sys \n",
      "\n",
      "#Use sys.stdout to see the output directly and not save it\n",
      "dframe.to_csv(sys.stdout,sep='_')"
     ],
     "language": "python",
     "metadata": {},
     "outputs": [
      {
       "output_type": "stream",
       "stream": "stdout",
       "text": [
        "_0_1_2_3_4\n",
        "0_q_r_s_t_apple\n",
        "1_2_3_4_5_pear\n",
        "2_a_s_d_f_rabbit\n",
        "3_5_2_5_7_dog\n"
       ]
      }
     ],
     "prompt_number": 14
    },
    {
     "cell_type": "code",
     "collapsed": false,
     "input": [
      "# Just to make sure we understand the delimiter\n",
      "dframe.to_csv(sys.stdout,sep='?')"
     ],
     "language": "python",
     "metadata": {},
     "outputs": [
      {
       "output_type": "stream",
       "stream": "stdout",
       "text": [
        "?0?1?2?3?4\n",
        "0?q?r?s?t?apple\n",
        "1?2?3?4?5?pear\n",
        "2?a?s?d?f?rabbit\n",
        "3?5?2?5?7?dog\n"
       ]
      }
     ],
     "prompt_number": 15
    },
    {
     "cell_type": "code",
     "collapsed": false,
     "input": [
      "#We can also choose to write only a specific subset of columns\n",
      "dframe.to_csv(sys.stdout,columns=[0,1,2])"
     ],
     "language": "python",
     "metadata": {},
     "outputs": [
      {
       "output_type": "stream",
       "stream": "stdout",
       "text": [
        ",0,1,2\n",
        "0,q,r,s\n",
        "1,2,3,4\n",
        "2,a,s,d\n",
        "3,5,2,5\n"
       ]
      }
     ],
     "prompt_number": 17
    },
    {
     "cell_type": "code",
     "collapsed": false,
     "input": [
      "#You should also check out pythons built-in csv reader and writer for more info:\n",
      "# https://docs.python.org/2/library/csv.html"
     ],
     "language": "python",
     "metadata": {},
     "outputs": [
      {
       "ename": "SyntaxError",
       "evalue": "invalid syntax (<ipython-input-18-0b665ff54019>, line 2)",
       "output_type": "pyerr",
       "traceback": [
        "\u001b[1;36m  File \u001b[1;32m\"<ipython-input-18-0b665ff54019>\"\u001b[1;36m, line \u001b[1;32m2\u001b[0m\n\u001b[1;33m    https://docs.python.org/2/library/csv.html\u001b[0m\n\u001b[1;37m         ^\u001b[0m\n\u001b[1;31mSyntaxError\u001b[0m\u001b[1;31m:\u001b[0m invalid syntax\n"
       ]
      }
     ],
     "prompt_number": 18
    },
    {
     "cell_type": "code",
     "collapsed": false,
     "input": [
      "#Next we'll learn about reading JSON data!"
     ],
     "language": "python",
     "metadata": {},
     "outputs": []
    }
   ],
   "metadata": {}
  }
 ]
}