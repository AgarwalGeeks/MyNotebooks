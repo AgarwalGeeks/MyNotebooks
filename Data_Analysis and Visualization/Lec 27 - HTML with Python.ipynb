{
 "metadata": {
  "name": "",
  "signature": "sha256:e61c490ca1c4aca7a1f1b834c6364f9e61633f664712dc4b713efe48b6e8ea4f"
 },
 "nbformat": 3,
 "nbformat_minor": 0,
 "worksheets": [
  {
   "cells": [
    {
     "cell_type": "code",
     "collapsed": false,
     "input": [
      "# We can import data using lxml\n",
      "\n",
      "from pandas import read_html\n",
      "import pandas as pd\n",
      "from pandas import Series, DataFrame"
     ],
     "language": "python",
     "metadata": {},
     "outputs": [],
     "prompt_number": 14
    },
    {
     "cell_type": "code",
     "collapsed": false,
     "input": [
      "#Lets grab a url for list of failed banks\n",
      "url = 'http://www.fdic.gov/bank/individual/failed/banklist.html'"
     ],
     "language": "python",
     "metadata": {},
     "outputs": [],
     "prompt_number": 15
    },
    {
     "cell_type": "code",
     "collapsed": false,
     "input": [
      "\n",
      "\"\"\"\n",
      "IMPORTANT NOTE: NEED TO HAVE beautiful-soup INSTALLED as well as html5lib !!!!\n",
      "\n",
      "\"\"\"\n"
     ],
     "language": "python",
     "metadata": {},
     "outputs": [
      {
       "metadata": {},
       "output_type": "pyout",
       "prompt_number": 16,
       "text": [
        "'\\nIMPORTANT NOTE: NEED TO HAVE beautiful-soup INSTALLED as well as html5lib !!!!\\n\\n'"
       ]
      }
     ],
     "prompt_number": 16
    },
    {
     "cell_type": "code",
     "collapsed": false,
     "input": [
      "# Grab data from html and put it intop a list of DataFrame objects!\n",
      "dframe_list = pd.io.html.read_html(url)"
     ],
     "language": "python",
     "metadata": {},
     "outputs": [],
     "prompt_number": 17
    },
    {
     "cell_type": "code",
     "collapsed": false,
     "input": [
      "#Grab the first list item from the data base and set as a DataFrame\n",
      "dframe = dframe_list[0]"
     ],
     "language": "python",
     "metadata": {},
     "outputs": [],
     "prompt_number": 18
    },
    {
     "cell_type": "code",
     "collapsed": false,
     "input": [
      "#Show\n",
      "dframe"
     ],
     "language": "python",
     "metadata": {},
     "outputs": [
      {
       "html": [
        "<div style=\"max-height:1000px;max-width:1500px;overflow:auto;\">\n",
        "<table border=\"1\" class=\"dataframe\">\n",
        "  <thead>\n",
        "    <tr style=\"text-align: right;\">\n",
        "      <th></th>\n",
        "      <th>Bank Name</th>\n",
        "      <th>City</th>\n",
        "      <th>ST</th>\n",
        "      <th>CERT</th>\n",
        "      <th>Acquiring Institution</th>\n",
        "      <th>Closing Date</th>\n",
        "      <th>Updated Date</th>\n",
        "      <th>Loss Share Type</th>\n",
        "      <th>Agreement Terminated</th>\n",
        "      <th>Termination Date</th>\n",
        "    </tr>\n",
        "  </thead>\n",
        "  <tbody>\n",
        "    <tr>\n",
        "      <th>0  </th>\n",
        "      <td>                 Capitol City Bank &amp; Trust Company</td>\n",
        "      <td>         Atlanta</td>\n",
        "      <td> GA</td>\n",
        "      <td> 33938</td>\n",
        "      <td>        First-Citizens Bank &amp; Trust Company</td>\n",
        "      <td>  February 13, 2015</td>\n",
        "      <td>  February 19, 2015</td>\n",
        "      <td>    none</td>\n",
        "      <td> NaN</td>\n",
        "      <td> NaN</td>\n",
        "    </tr>\n",
        "    <tr>\n",
        "      <th>1  </th>\n",
        "      <td>                           Highland Community Bank</td>\n",
        "      <td>         Chicago</td>\n",
        "      <td> IL</td>\n",
        "      <td> 20290</td>\n",
        "      <td>                  United Fidelity Bank, fsb</td>\n",
        "      <td>   January 23, 2015</td>\n",
        "      <td>  February 11, 2015</td>\n",
        "      <td>    none</td>\n",
        "      <td> NaN</td>\n",
        "      <td> NaN</td>\n",
        "    </tr>\n",
        "    <tr>\n",
        "      <th>2  </th>\n",
        "      <td>                  First National Bank of Crestview</td>\n",
        "      <td>       Crestview</td>\n",
        "      <td> FL</td>\n",
        "      <td> 17557</td>\n",
        "      <td>                             First NBC Bank</td>\n",
        "      <td>   January 16, 2015</td>\n",
        "      <td>  February 11, 2015</td>\n",
        "      <td>    none</td>\n",
        "      <td> NaN</td>\n",
        "      <td> NaN</td>\n",
        "    </tr>\n",
        "    <tr>\n",
        "      <th>3  </th>\n",
        "      <td>                                Northern Star Bank</td>\n",
        "      <td>         Mankato</td>\n",
        "      <td> MN</td>\n",
        "      <td> 34983</td>\n",
        "      <td>                                  BankVista</td>\n",
        "      <td>  December 19, 2014</td>\n",
        "      <td>   February 4, 2015</td>\n",
        "      <td>    none</td>\n",
        "      <td> NaN</td>\n",
        "      <td> NaN</td>\n",
        "    </tr>\n",
        "    <tr>\n",
        "      <th>4  </th>\n",
        "      <td>            Frontier Bank, FSB D/B/A El Paseo Bank</td>\n",
        "      <td>     Palm Desert</td>\n",
        "      <td> CA</td>\n",
        "      <td> 34738</td>\n",
        "      <td>          Bank of Southern California, N.A.</td>\n",
        "      <td>   November 7, 2014</td>\n",
        "      <td>   February 4, 2015</td>\n",
        "      <td>    none</td>\n",
        "      <td> NaN</td>\n",
        "      <td> NaN</td>\n",
        "    </tr>\n",
        "    <tr>\n",
        "      <th>5  </th>\n",
        "      <td>             The National Republic Bank of Chicago</td>\n",
        "      <td>         Chicago</td>\n",
        "      <td> IL</td>\n",
        "      <td>   916</td>\n",
        "      <td>                        State Bank of Texas</td>\n",
        "      <td>   October 24, 2014</td>\n",
        "      <td>   February 4, 2015</td>\n",
        "      <td>    none</td>\n",
        "      <td> NaN</td>\n",
        "      <td> NaN</td>\n",
        "    </tr>\n",
        "    <tr>\n",
        "      <th>6  </th>\n",
        "      <td>                                    NBRS Financial</td>\n",
        "      <td>      Rising Sun</td>\n",
        "      <td> MD</td>\n",
        "      <td>  4862</td>\n",
        "      <td>                                Howard Bank</td>\n",
        "      <td>   October 17, 2014</td>\n",
        "      <td>   February 4, 2015</td>\n",
        "      <td>    none</td>\n",
        "      <td> NaN</td>\n",
        "      <td> NaN</td>\n",
        "    </tr>\n",
        "    <tr>\n",
        "      <th>7  </th>\n",
        "      <td>                             GreenChoice Bank, fsb</td>\n",
        "      <td>         Chicago</td>\n",
        "      <td> IL</td>\n",
        "      <td> 28462</td>\n",
        "      <td>                       Providence Bank, LLC</td>\n",
        "      <td>      July 25, 2014</td>\n",
        "      <td>    January 5, 2015</td>\n",
        "      <td>    none</td>\n",
        "      <td> NaN</td>\n",
        "      <td> NaN</td>\n",
        "    </tr>\n",
        "    <tr>\n",
        "      <th>8  </th>\n",
        "      <td>                          Eastside Commercial Bank</td>\n",
        "      <td>         Conyers</td>\n",
        "      <td> GA</td>\n",
        "      <td> 58125</td>\n",
        "      <td>                  Community &amp; Southern Bank</td>\n",
        "      <td>      July 18, 2014</td>\n",
        "      <td>    January 5, 2015</td>\n",
        "      <td>    none</td>\n",
        "      <td> NaN</td>\n",
        "      <td> NaN</td>\n",
        "    </tr>\n",
        "    <tr>\n",
        "      <th>9  </th>\n",
        "      <td>                            The Freedom State Bank</td>\n",
        "      <td>         Freedom</td>\n",
        "      <td> OK</td>\n",
        "      <td> 12483</td>\n",
        "      <td>            Alva State Bank &amp; Trust Company</td>\n",
        "      <td>      June 27, 2014</td>\n",
        "      <td>      July 18, 2014</td>\n",
        "      <td>    none</td>\n",
        "      <td> NaN</td>\n",
        "      <td> NaN</td>\n",
        "    </tr>\n",
        "    <tr>\n",
        "      <th>10 </th>\n",
        "      <td>                                       Valley Bank</td>\n",
        "      <td> Fort Lauderdale</td>\n",
        "      <td> FL</td>\n",
        "      <td> 21793</td>\n",
        "      <td>        Landmark Bank, National Association</td>\n",
        "      <td>      June 20, 2014</td>\n",
        "      <td>      July 28, 2014</td>\n",
        "      <td>    none</td>\n",
        "      <td> NaN</td>\n",
        "      <td> NaN</td>\n",
        "    </tr>\n",
        "    <tr>\n",
        "      <th>11 </th>\n",
        "      <td>                                       Valley Bank</td>\n",
        "      <td>          Moline</td>\n",
        "      <td> IL</td>\n",
        "      <td> 10450</td>\n",
        "      <td>                        Great Southern Bank</td>\n",
        "      <td>      June 20, 2014</td>\n",
        "      <td>      July 28, 2014</td>\n",
        "      <td>    none</td>\n",
        "      <td> NaN</td>\n",
        "      <td> NaN</td>\n",
        "    </tr>\n",
        "    <tr>\n",
        "      <th>12 </th>\n",
        "      <td>                       Slavie Federal Savings Bank</td>\n",
        "      <td>         Bel Air</td>\n",
        "      <td> MD</td>\n",
        "      <td> 32368</td>\n",
        "      <td>                              Bay Bank, FSB</td>\n",
        "      <td>       May 30, 2014</td>\n",
        "      <td>      July 18, 2014</td>\n",
        "      <td>    none</td>\n",
        "      <td> NaN</td>\n",
        "      <td> NaN</td>\n",
        "    </tr>\n",
        "    <tr>\n",
        "      <th>13 </th>\n",
        "      <td>                             Columbia Savings Bank</td>\n",
        "      <td>      Cincinnati</td>\n",
        "      <td> OH</td>\n",
        "      <td> 32284</td>\n",
        "      <td>                  United Fidelity Bank, fsb</td>\n",
        "      <td>       May 23, 2014</td>\n",
        "      <td>      July 18, 2014</td>\n",
        "      <td>    none</td>\n",
        "      <td> NaN</td>\n",
        "      <td> NaN</td>\n",
        "    </tr>\n",
        "    <tr>\n",
        "      <th>14 </th>\n",
        "      <td>                      AztecAmerica Bank En Espanol</td>\n",
        "      <td>          Berwyn</td>\n",
        "      <td> IL</td>\n",
        "      <td> 57866</td>\n",
        "      <td>                   Republic Bank of Chicago</td>\n",
        "      <td>       May 16, 2014</td>\n",
        "      <td>      July 18, 2014</td>\n",
        "      <td>    none</td>\n",
        "      <td> NaN</td>\n",
        "      <td> NaN</td>\n",
        "    </tr>\n",
        "    <tr>\n",
        "      <th>15 </th>\n",
        "      <td>                             Allendale County Bank</td>\n",
        "      <td>         Fairfax</td>\n",
        "      <td> SC</td>\n",
        "      <td> 15062</td>\n",
        "      <td>                        Palmetto State Bank</td>\n",
        "      <td>     April 25, 2014</td>\n",
        "      <td>      July 18, 2014</td>\n",
        "      <td>    none</td>\n",
        "      <td> NaN</td>\n",
        "      <td> NaN</td>\n",
        "    </tr>\n",
        "    <tr>\n",
        "      <th>16 </th>\n",
        "      <td>                                Vantage Point Bank</td>\n",
        "      <td>         Horsham</td>\n",
        "      <td> PA</td>\n",
        "      <td> 58531</td>\n",
        "      <td>                          First Choice Bank</td>\n",
        "      <td>  February 28, 2014</td>\n",
        "      <td>     April 11, 2014</td>\n",
        "      <td>    none</td>\n",
        "      <td> NaN</td>\n",
        "      <td> NaN</td>\n",
        "    </tr>\n",
        "    <tr>\n",
        "      <th>17 </th>\n",
        "      <td>             Millennium Bank, National Association</td>\n",
        "      <td>        Sterling</td>\n",
        "      <td> VA</td>\n",
        "      <td> 35096</td>\n",
        "      <td>                       WashingtonFirst Bank</td>\n",
        "      <td>  February 28, 2014</td>\n",
        "      <td>     April 11, 2014</td>\n",
        "      <td>    none</td>\n",
        "      <td> NaN</td>\n",
        "      <td> NaN</td>\n",
        "    </tr>\n",
        "    <tr>\n",
        "      <th>18 </th>\n",
        "      <td>                                      Syringa Bank</td>\n",
        "      <td>           Boise</td>\n",
        "      <td> ID</td>\n",
        "      <td> 34296</td>\n",
        "      <td>                               Sunwest Bank</td>\n",
        "      <td>   January 31, 2014</td>\n",
        "      <td>  February 19, 2015</td>\n",
        "      <td>    none</td>\n",
        "      <td> NaN</td>\n",
        "      <td> NaN</td>\n",
        "    </tr>\n",
        "    <tr>\n",
        "      <th>19 </th>\n",
        "      <td>                                 The Bank of Union</td>\n",
        "      <td>         El Reno</td>\n",
        "      <td> OK</td>\n",
        "      <td> 17967</td>\n",
        "      <td>                                  BancFirst</td>\n",
        "      <td>   January 24, 2014</td>\n",
        "      <td>  February 19, 2015</td>\n",
        "      <td>    none</td>\n",
        "      <td> NaN</td>\n",
        "      <td> NaN</td>\n",
        "    </tr>\n",
        "    <tr>\n",
        "      <th>20 </th>\n",
        "      <td>                              DuPage National Bank</td>\n",
        "      <td>    West Chicago</td>\n",
        "      <td> IL</td>\n",
        "      <td>  5732</td>\n",
        "      <td>                   Republic Bank of Chicago</td>\n",
        "      <td>   January 17, 2014</td>\n",
        "      <td>  February 19, 2015</td>\n",
        "      <td>    none</td>\n",
        "      <td> NaN</td>\n",
        "      <td> NaN</td>\n",
        "    </tr>\n",
        "    <tr>\n",
        "      <th>21 </th>\n",
        "      <td>        Texas Community Bank, National Association</td>\n",
        "      <td>   The Woodlands</td>\n",
        "      <td> TX</td>\n",
        "      <td> 57431</td>\n",
        "      <td>                  Spirit of Texas Bank, SSB</td>\n",
        "      <td>  December 13, 2013</td>\n",
        "      <td>  December 29, 2014</td>\n",
        "      <td>    none</td>\n",
        "      <td> NaN</td>\n",
        "      <td> NaN</td>\n",
        "    </tr>\n",
        "    <tr>\n",
        "      <th>22 </th>\n",
        "      <td>                            Bank of Jackson County</td>\n",
        "      <td>      Graceville</td>\n",
        "      <td> FL</td>\n",
        "      <td> 14794</td>\n",
        "      <td>              First Federal Bank of Florida</td>\n",
        "      <td>   October 30, 2013</td>\n",
        "      <td>  November 05, 2014</td>\n",
        "      <td>    none</td>\n",
        "      <td> NaN</td>\n",
        "      <td> NaN</td>\n",
        "    </tr>\n",
        "    <tr>\n",
        "      <th>23 </th>\n",
        "      <td> First National Bank also operating as The  Nat...</td>\n",
        "      <td>        Edinburg</td>\n",
        "      <td> TX</td>\n",
        "      <td> 14318</td>\n",
        "      <td>                         PlainsCapital Bank</td>\n",
        "      <td> September 13, 2013</td>\n",
        "      <td> September 12, 2014</td>\n",
        "      <td> SFR/NSF</td>\n",
        "      <td> NaN</td>\n",
        "      <td> NaN</td>\n",
        "    </tr>\n",
        "    <tr>\n",
        "      <th>24 </th>\n",
        "      <td>                              The Community's Bank</td>\n",
        "      <td>      Bridgeport</td>\n",
        "      <td> CT</td>\n",
        "      <td> 57041</td>\n",
        "      <td>                                No Acquirer</td>\n",
        "      <td> September 13, 2013</td>\n",
        "      <td>  December 20, 2013</td>\n",
        "      <td>    none</td>\n",
        "      <td> NaN</td>\n",
        "      <td> NaN</td>\n",
        "    </tr>\n",
        "    <tr>\n",
        "      <th>25 </th>\n",
        "      <td>                           Sunrise Bank of Arizona</td>\n",
        "      <td>         Phoenix</td>\n",
        "      <td> AZ</td>\n",
        "      <td> 34707</td>\n",
        "      <td>  First Fidelity Bank, National Association</td>\n",
        "      <td>    August 23, 2013</td>\n",
        "      <td> September 12, 2014</td>\n",
        "      <td>    none</td>\n",
        "      <td> NaN</td>\n",
        "      <td> NaN</td>\n",
        "    </tr>\n",
        "    <tr>\n",
        "      <th>26 </th>\n",
        "      <td>                              Community South Bank</td>\n",
        "      <td>         Parsons</td>\n",
        "      <td> TN</td>\n",
        "      <td> 19849</td>\n",
        "      <td>                            CB&amp;S Bank, Inc.</td>\n",
        "      <td>    August 23, 2013</td>\n",
        "      <td> September 12, 2014</td>\n",
        "      <td>    none</td>\n",
        "      <td> NaN</td>\n",
        "      <td> NaN</td>\n",
        "    </tr>\n",
        "    <tr>\n",
        "      <th>27 </th>\n",
        "      <td>                                    Bank of Wausau</td>\n",
        "      <td>          Wausau</td>\n",
        "      <td> WI</td>\n",
        "      <td> 35016</td>\n",
        "      <td>                      Nicolet National Bank</td>\n",
        "      <td>     August 9, 2013</td>\n",
        "      <td>   October 24, 2013</td>\n",
        "      <td>    none</td>\n",
        "      <td> NaN</td>\n",
        "      <td> NaN</td>\n",
        "    </tr>\n",
        "    <tr>\n",
        "      <th>28 </th>\n",
        "      <td> First Community Bank of Southwest Florida (als...</td>\n",
        "      <td>      Fort Myers</td>\n",
        "      <td> FL</td>\n",
        "      <td> 34943</td>\n",
        "      <td>                                    C1 Bank</td>\n",
        "      <td>     August 2, 2013</td>\n",
        "      <td>     August 4, 2014</td>\n",
        "      <td>    none</td>\n",
        "      <td> NaN</td>\n",
        "      <td> NaN</td>\n",
        "    </tr>\n",
        "    <tr>\n",
        "      <th>29 </th>\n",
        "      <td>                            Mountain National Bank</td>\n",
        "      <td>     Sevierville</td>\n",
        "      <td> TN</td>\n",
        "      <td> 34789</td>\n",
        "      <td> First Tennessee Bank, National Association</td>\n",
        "      <td>       June 7, 2013</td>\n",
        "      <td>      June 20, 2014</td>\n",
        "      <td>    none</td>\n",
        "      <td> NaN</td>\n",
        "      <td> NaN</td>\n",
        "    </tr>\n",
        "    <tr>\n",
        "      <th>...</th>\n",
        "      <td>...</td>\n",
        "      <td>...</td>\n",
        "      <td>...</td>\n",
        "      <td>...</td>\n",
        "      <td>...</td>\n",
        "      <td>...</td>\n",
        "      <td>...</td>\n",
        "      <td>...</td>\n",
        "      <td>...</td>\n",
        "      <td>...</td>\n",
        "    </tr>\n",
        "    <tr>\n",
        "      <th>507</th>\n",
        "      <td>                                 ANB Financial, NA</td>\n",
        "      <td>     Bentonville</td>\n",
        "      <td> AR</td>\n",
        "      <td> 33901</td>\n",
        "      <td>             Pulaski Bank and Trust Company</td>\n",
        "      <td>        May 9, 2008</td>\n",
        "      <td>    August 28, 2012</td>\n",
        "      <td>    none</td>\n",
        "      <td> NaN</td>\n",
        "      <td> NaN</td>\n",
        "    </tr>\n",
        "    <tr>\n",
        "      <th>508</th>\n",
        "      <td>                                         Hume Bank</td>\n",
        "      <td>            Hume</td>\n",
        "      <td> MO</td>\n",
        "      <td>  1971</td>\n",
        "      <td>                              Security Bank</td>\n",
        "      <td>      March 7, 2008</td>\n",
        "      <td>    August 28, 2012</td>\n",
        "      <td>    none</td>\n",
        "      <td> NaN</td>\n",
        "      <td> NaN</td>\n",
        "    </tr>\n",
        "    <tr>\n",
        "      <th>509</th>\n",
        "      <td>                            Douglass National Bank</td>\n",
        "      <td>     Kansas City</td>\n",
        "      <td> MO</td>\n",
        "      <td> 24660</td>\n",
        "      <td>             Liberty Bank and Trust Company</td>\n",
        "      <td>   January 25, 2008</td>\n",
        "      <td>   October 26, 2012</td>\n",
        "      <td>    none</td>\n",
        "      <td> NaN</td>\n",
        "      <td> NaN</td>\n",
        "    </tr>\n",
        "    <tr>\n",
        "      <th>510</th>\n",
        "      <td>                                 Miami Valley Bank</td>\n",
        "      <td>        Lakeview</td>\n",
        "      <td> OH</td>\n",
        "      <td> 16848</td>\n",
        "      <td>               The Citizens Banking Company</td>\n",
        "      <td>    October 4, 2007</td>\n",
        "      <td>    August 28, 2012</td>\n",
        "      <td>    none</td>\n",
        "      <td> NaN</td>\n",
        "      <td> NaN</td>\n",
        "    </tr>\n",
        "    <tr>\n",
        "      <th>511</th>\n",
        "      <td>                                           NetBank</td>\n",
        "      <td>      Alpharetta</td>\n",
        "      <td> GA</td>\n",
        "      <td> 32575</td>\n",
        "      <td>                                 ING DIRECT</td>\n",
        "      <td> September 28, 2007</td>\n",
        "      <td>    August 28, 2012</td>\n",
        "      <td>    none</td>\n",
        "      <td> NaN</td>\n",
        "      <td> NaN</td>\n",
        "    </tr>\n",
        "    <tr>\n",
        "      <th>512</th>\n",
        "      <td>                         Metropolitan Savings Bank</td>\n",
        "      <td>      Pittsburgh</td>\n",
        "      <td> PA</td>\n",
        "      <td> 35353</td>\n",
        "      <td>        Allegheny Valley Bank of Pittsburgh</td>\n",
        "      <td>   February 2, 2007</td>\n",
        "      <td>   October 27, 2010</td>\n",
        "      <td>    none</td>\n",
        "      <td> NaN</td>\n",
        "      <td> NaN</td>\n",
        "    </tr>\n",
        "    <tr>\n",
        "      <th>513</th>\n",
        "      <td>                                   Bank of Ephraim</td>\n",
        "      <td>         Ephraim</td>\n",
        "      <td> UT</td>\n",
        "      <td>  1249</td>\n",
        "      <td>                              Far West Bank</td>\n",
        "      <td>      June 25, 2004</td>\n",
        "      <td>      April 9, 2008</td>\n",
        "      <td>    none</td>\n",
        "      <td> NaN</td>\n",
        "      <td> NaN</td>\n",
        "    </tr>\n",
        "    <tr>\n",
        "      <th>514</th>\n",
        "      <td>                                     Reliance Bank</td>\n",
        "      <td>    White Plains</td>\n",
        "      <td> NY</td>\n",
        "      <td> 26778</td>\n",
        "      <td>                           Union State Bank</td>\n",
        "      <td>     March 19, 2004</td>\n",
        "      <td>      April 9, 2008</td>\n",
        "      <td>    none</td>\n",
        "      <td> NaN</td>\n",
        "      <td> NaN</td>\n",
        "    </tr>\n",
        "    <tr>\n",
        "      <th>515</th>\n",
        "      <td>             Guaranty National Bank of Tallahassee</td>\n",
        "      <td>     Tallahassee</td>\n",
        "      <td> FL</td>\n",
        "      <td> 26838</td>\n",
        "      <td>                    Hancock Bank of Florida</td>\n",
        "      <td>     March 12, 2004</td>\n",
        "      <td>       June 5, 2012</td>\n",
        "      <td>    none</td>\n",
        "      <td> NaN</td>\n",
        "      <td> NaN</td>\n",
        "    </tr>\n",
        "    <tr>\n",
        "      <th>516</th>\n",
        "      <td>                               Dollar Savings Bank</td>\n",
        "      <td>          Newark</td>\n",
        "      <td> NJ</td>\n",
        "      <td> 31330</td>\n",
        "      <td>                                No Acquirer</td>\n",
        "      <td>  February 14, 2004</td>\n",
        "      <td>      April 9, 2008</td>\n",
        "      <td>    none</td>\n",
        "      <td> NaN</td>\n",
        "      <td> NaN</td>\n",
        "    </tr>\n",
        "    <tr>\n",
        "      <th>517</th>\n",
        "      <td>                              Pulaski Savings Bank</td>\n",
        "      <td>    Philadelphia</td>\n",
        "      <td> PA</td>\n",
        "      <td> 27203</td>\n",
        "      <td>                             Earthstar Bank</td>\n",
        "      <td>  November 14, 2003</td>\n",
        "      <td>      July 22, 2005</td>\n",
        "      <td>    none</td>\n",
        "      <td> NaN</td>\n",
        "      <td> NaN</td>\n",
        "    </tr>\n",
        "    <tr>\n",
        "      <th>518</th>\n",
        "      <td>             First National Bank of Blanchardville</td>\n",
        "      <td>  Blanchardville</td>\n",
        "      <td> WI</td>\n",
        "      <td> 11639</td>\n",
        "      <td>                              The Park Bank</td>\n",
        "      <td>        May 9, 2003</td>\n",
        "      <td>       June 5, 2012</td>\n",
        "      <td>    none</td>\n",
        "      <td> NaN</td>\n",
        "      <td> NaN</td>\n",
        "    </tr>\n",
        "    <tr>\n",
        "      <th>519</th>\n",
        "      <td>                             Southern Pacific Bank</td>\n",
        "      <td>        Torrance</td>\n",
        "      <td> CA</td>\n",
        "      <td> 27094</td>\n",
        "      <td>                                  Beal Bank</td>\n",
        "      <td>   February 7, 2003</td>\n",
        "      <td>   October 20, 2008</td>\n",
        "      <td>    none</td>\n",
        "      <td> NaN</td>\n",
        "      <td> NaN</td>\n",
        "    </tr>\n",
        "    <tr>\n",
        "      <th>520</th>\n",
        "      <td>                       Farmers Bank of Cheneyville</td>\n",
        "      <td>     Cheneyville</td>\n",
        "      <td> LA</td>\n",
        "      <td> 16445</td>\n",
        "      <td>                  Sabine State Bank &amp; Trust</td>\n",
        "      <td>  December 17, 2002</td>\n",
        "      <td>   October 20, 2004</td>\n",
        "      <td>    none</td>\n",
        "      <td> NaN</td>\n",
        "      <td> NaN</td>\n",
        "    </tr>\n",
        "    <tr>\n",
        "      <th>521</th>\n",
        "      <td>                                     Bank of Alamo</td>\n",
        "      <td>           Alamo</td>\n",
        "      <td> TN</td>\n",
        "      <td>  9961</td>\n",
        "      <td>                                No Acquirer</td>\n",
        "      <td>   November 8, 2002</td>\n",
        "      <td>     March 18, 2005</td>\n",
        "      <td>    none</td>\n",
        "      <td> NaN</td>\n",
        "      <td> NaN</td>\n",
        "    </tr>\n",
        "    <tr>\n",
        "      <th>522</th>\n",
        "      <td>              AmTrade International BankEn Espanol</td>\n",
        "      <td>         Atlanta</td>\n",
        "      <td> GA</td>\n",
        "      <td> 33784</td>\n",
        "      <td>                                No Acquirer</td>\n",
        "      <td> September 30, 2002</td>\n",
        "      <td> September 11, 2006</td>\n",
        "      <td>    none</td>\n",
        "      <td> NaN</td>\n",
        "      <td> NaN</td>\n",
        "    </tr>\n",
        "    <tr>\n",
        "      <th>523</th>\n",
        "      <td>                    Universal Federal Savings Bank</td>\n",
        "      <td>         Chicago</td>\n",
        "      <td> IL</td>\n",
        "      <td> 29355</td>\n",
        "      <td>                     Chicago Community Bank</td>\n",
        "      <td>      June 27, 2002</td>\n",
        "      <td>      April 9, 2008</td>\n",
        "      <td>    none</td>\n",
        "      <td> NaN</td>\n",
        "      <td> NaN</td>\n",
        "    </tr>\n",
        "    <tr>\n",
        "      <th>524</th>\n",
        "      <td>                      Connecticut Bank of Commerce</td>\n",
        "      <td>        Stamford</td>\n",
        "      <td> CT</td>\n",
        "      <td> 19183</td>\n",
        "      <td>                         Hudson United Bank</td>\n",
        "      <td>      June 26, 2002</td>\n",
        "      <td>  February 14, 2012</td>\n",
        "      <td>    none</td>\n",
        "      <td> NaN</td>\n",
        "      <td> NaN</td>\n",
        "    </tr>\n",
        "    <tr>\n",
        "      <th>525</th>\n",
        "      <td>                                  New Century Bank</td>\n",
        "      <td> Shelby Township</td>\n",
        "      <td> MI</td>\n",
        "      <td> 34979</td>\n",
        "      <td>                                No Acquirer</td>\n",
        "      <td>     March 28, 2002</td>\n",
        "      <td>     March 18, 2005</td>\n",
        "      <td>    none</td>\n",
        "      <td> NaN</td>\n",
        "      <td> NaN</td>\n",
        "    </tr>\n",
        "    <tr>\n",
        "      <th>526</th>\n",
        "      <td>                             Net 1st National Bank</td>\n",
        "      <td>      Boca Raton</td>\n",
        "      <td> FL</td>\n",
        "      <td> 26652</td>\n",
        "      <td>                             Bank Leumi USA</td>\n",
        "      <td>      March 1, 2002</td>\n",
        "      <td>      April 9, 2008</td>\n",
        "      <td>    none</td>\n",
        "      <td> NaN</td>\n",
        "      <td> NaN</td>\n",
        "    </tr>\n",
        "    <tr>\n",
        "      <th>527</th>\n",
        "      <td>                                      NextBank, NA</td>\n",
        "      <td>         Phoenix</td>\n",
        "      <td> AZ</td>\n",
        "      <td> 22314</td>\n",
        "      <td>                                No Acquirer</td>\n",
        "      <td>   February 7, 2002</td>\n",
        "      <td>   February 5, 2015</td>\n",
        "      <td>    none</td>\n",
        "      <td> NaN</td>\n",
        "      <td> NaN</td>\n",
        "    </tr>\n",
        "    <tr>\n",
        "      <th>528</th>\n",
        "      <td>                          Oakwood Deposit Bank Co.</td>\n",
        "      <td>         Oakwood</td>\n",
        "      <td> OH</td>\n",
        "      <td>  8966</td>\n",
        "      <td>             The State Bank &amp; Trust Company</td>\n",
        "      <td>   February 1, 2002</td>\n",
        "      <td>   October 25, 2012</td>\n",
        "      <td>    none</td>\n",
        "      <td> NaN</td>\n",
        "      <td> NaN</td>\n",
        "    </tr>\n",
        "    <tr>\n",
        "      <th>529</th>\n",
        "      <td>                             Bank of Sierra Blanca</td>\n",
        "      <td>   Sierra Blanca</td>\n",
        "      <td> TX</td>\n",
        "      <td> 22002</td>\n",
        "      <td>           The Security State Bank of Pecos</td>\n",
        "      <td>   January 18, 2002</td>\n",
        "      <td>   November 6, 2003</td>\n",
        "      <td>    none</td>\n",
        "      <td> NaN</td>\n",
        "      <td> NaN</td>\n",
        "    </tr>\n",
        "    <tr>\n",
        "      <th>530</th>\n",
        "      <td>                       Hamilton Bank, NAEn Espanol</td>\n",
        "      <td>           Miami</td>\n",
        "      <td> FL</td>\n",
        "      <td> 24382</td>\n",
        "      <td>           Israel Discount Bank of New York</td>\n",
        "      <td>   January 11, 2002</td>\n",
        "      <td>       June 5, 2012</td>\n",
        "      <td>    none</td>\n",
        "      <td> NaN</td>\n",
        "      <td> NaN</td>\n",
        "    </tr>\n",
        "    <tr>\n",
        "      <th>531</th>\n",
        "      <td>                            Sinclair National Bank</td>\n",
        "      <td>        Gravette</td>\n",
        "      <td> AR</td>\n",
        "      <td> 34248</td>\n",
        "      <td>                         Delta Trust &amp; Bank</td>\n",
        "      <td>  September 7, 2001</td>\n",
        "      <td>  February 10, 2004</td>\n",
        "      <td>    none</td>\n",
        "      <td> NaN</td>\n",
        "      <td> NaN</td>\n",
        "    </tr>\n",
        "    <tr>\n",
        "      <th>532</th>\n",
        "      <td>                                Superior Bank, FSB</td>\n",
        "      <td>        Hinsdale</td>\n",
        "      <td> IL</td>\n",
        "      <td> 32646</td>\n",
        "      <td>                      Superior Federal, FSB</td>\n",
        "      <td>      July 27, 2001</td>\n",
        "      <td>    August 19, 2014</td>\n",
        "      <td>    none</td>\n",
        "      <td> NaN</td>\n",
        "      <td> NaN</td>\n",
        "    </tr>\n",
        "    <tr>\n",
        "      <th>533</th>\n",
        "      <td>                               Malta National Bank</td>\n",
        "      <td>           Malta</td>\n",
        "      <td> OH</td>\n",
        "      <td>  6629</td>\n",
        "      <td>                          North Valley Bank</td>\n",
        "      <td>        May 3, 2001</td>\n",
        "      <td>  November 18, 2002</td>\n",
        "      <td>    none</td>\n",
        "      <td> NaN</td>\n",
        "      <td> NaN</td>\n",
        "    </tr>\n",
        "    <tr>\n",
        "      <th>534</th>\n",
        "      <td>                   First Alliance Bank &amp; Trust Co.</td>\n",
        "      <td>      Manchester</td>\n",
        "      <td> NH</td>\n",
        "      <td> 34264</td>\n",
        "      <td>        Southern New Hampshire Bank &amp; Trust</td>\n",
        "      <td>   February 2, 2001</td>\n",
        "      <td>  February 18, 2003</td>\n",
        "      <td>    none</td>\n",
        "      <td> NaN</td>\n",
        "      <td> NaN</td>\n",
        "    </tr>\n",
        "    <tr>\n",
        "      <th>535</th>\n",
        "      <td>                 National State Bank of Metropolis</td>\n",
        "      <td>      Metropolis</td>\n",
        "      <td> IL</td>\n",
        "      <td>  3815</td>\n",
        "      <td>                    Banterra Bank of Marion</td>\n",
        "      <td>  December 14, 2000</td>\n",
        "      <td>     March 17, 2005</td>\n",
        "      <td>    none</td>\n",
        "      <td> NaN</td>\n",
        "      <td> NaN</td>\n",
        "    </tr>\n",
        "    <tr>\n",
        "      <th>536</th>\n",
        "      <td>                                  Bank of Honolulu</td>\n",
        "      <td>        Honolulu</td>\n",
        "      <td> HI</td>\n",
        "      <td> 21029</td>\n",
        "      <td>                         Bank of the Orient</td>\n",
        "      <td>   October 13, 2000</td>\n",
        "      <td>     March 17, 2005</td>\n",
        "      <td>    none</td>\n",
        "      <td> NaN</td>\n",
        "      <td> NaN</td>\n",
        "    </tr>\n",
        "  </tbody>\n",
        "</table>\n",
        "<p>537 rows \u00d7 10 columns</p>\n",
        "</div>"
       ],
       "metadata": {},
       "output_type": "pyout",
       "prompt_number": 19,
       "text": [
        "                                             Bank Name             City  ST  \\\n",
        "0                    Capitol City Bank & Trust Company          Atlanta  GA   \n",
        "1                              Highland Community Bank          Chicago  IL   \n",
        "2                     First National Bank of Crestview        Crestview  FL   \n",
        "3                                   Northern Star Bank          Mankato  MN   \n",
        "4               Frontier Bank, FSB D/B/A El Paseo Bank      Palm Desert  CA   \n",
        "5                The National Republic Bank of Chicago          Chicago  IL   \n",
        "6                                       NBRS Financial       Rising Sun  MD   \n",
        "7                                GreenChoice Bank, fsb          Chicago  IL   \n",
        "8                             Eastside Commercial Bank          Conyers  GA   \n",
        "9                               The Freedom State Bank          Freedom  OK   \n",
        "10                                         Valley Bank  Fort Lauderdale  FL   \n",
        "11                                         Valley Bank           Moline  IL   \n",
        "12                         Slavie Federal Savings Bank          Bel Air  MD   \n",
        "13                               Columbia Savings Bank       Cincinnati  OH   \n",
        "14                        AztecAmerica Bank En Espanol           Berwyn  IL   \n",
        "15                               Allendale County Bank          Fairfax  SC   \n",
        "16                                  Vantage Point Bank          Horsham  PA   \n",
        "17               Millennium Bank, National Association         Sterling  VA   \n",
        "18                                        Syringa Bank            Boise  ID   \n",
        "19                                   The Bank of Union          El Reno  OK   \n",
        "20                                DuPage National Bank     West Chicago  IL   \n",
        "21          Texas Community Bank, National Association    The Woodlands  TX   \n",
        "22                              Bank of Jackson County       Graceville  FL   \n",
        "23   First National Bank also operating as The  Nat...         Edinburg  TX   \n",
        "24                                The Community's Bank       Bridgeport  CT   \n",
        "25                             Sunrise Bank of Arizona          Phoenix  AZ   \n",
        "26                                Community South Bank          Parsons  TN   \n",
        "27                                      Bank of Wausau           Wausau  WI   \n",
        "28   First Community Bank of Southwest Florida (als...       Fort Myers  FL   \n",
        "29                              Mountain National Bank      Sevierville  TN   \n",
        "..                                                 ...              ...  ..   \n",
        "507                                  ANB Financial, NA      Bentonville  AR   \n",
        "508                                          Hume Bank             Hume  MO   \n",
        "509                             Douglass National Bank      Kansas City  MO   \n",
        "510                                  Miami Valley Bank         Lakeview  OH   \n",
        "511                                            NetBank       Alpharetta  GA   \n",
        "512                          Metropolitan Savings Bank       Pittsburgh  PA   \n",
        "513                                    Bank of Ephraim          Ephraim  UT   \n",
        "514                                      Reliance Bank     White Plains  NY   \n",
        "515              Guaranty National Bank of Tallahassee      Tallahassee  FL   \n",
        "516                                Dollar Savings Bank           Newark  NJ   \n",
        "517                               Pulaski Savings Bank     Philadelphia  PA   \n",
        "518              First National Bank of Blanchardville   Blanchardville  WI   \n",
        "519                              Southern Pacific Bank         Torrance  CA   \n",
        "520                        Farmers Bank of Cheneyville      Cheneyville  LA   \n",
        "521                                      Bank of Alamo            Alamo  TN   \n",
        "522               AmTrade International BankEn Espanol          Atlanta  GA   \n",
        "523                     Universal Federal Savings Bank          Chicago  IL   \n",
        "524                       Connecticut Bank of Commerce         Stamford  CT   \n",
        "525                                   New Century Bank  Shelby Township  MI   \n",
        "526                              Net 1st National Bank       Boca Raton  FL   \n",
        "527                                       NextBank, NA          Phoenix  AZ   \n",
        "528                           Oakwood Deposit Bank Co.          Oakwood  OH   \n",
        "529                              Bank of Sierra Blanca    Sierra Blanca  TX   \n",
        "530                        Hamilton Bank, NAEn Espanol            Miami  FL   \n",
        "531                             Sinclair National Bank         Gravette  AR   \n",
        "532                                 Superior Bank, FSB         Hinsdale  IL   \n",
        "533                                Malta National Bank            Malta  OH   \n",
        "534                    First Alliance Bank & Trust Co.       Manchester  NH   \n",
        "535                  National State Bank of Metropolis       Metropolis  IL   \n",
        "536                                   Bank of Honolulu         Honolulu  HI   \n",
        "\n",
        "      CERT                       Acquiring Institution        Closing Date  \\\n",
        "0    33938         First-Citizens Bank & Trust Company   February 13, 2015   \n",
        "1    20290                   United Fidelity Bank, fsb    January 23, 2015   \n",
        "2    17557                              First NBC Bank    January 16, 2015   \n",
        "3    34983                                   BankVista   December 19, 2014   \n",
        "4    34738           Bank of Southern California, N.A.    November 7, 2014   \n",
        "5      916                         State Bank of Texas    October 24, 2014   \n",
        "6     4862                                 Howard Bank    October 17, 2014   \n",
        "7    28462                        Providence Bank, LLC       July 25, 2014   \n",
        "8    58125                   Community & Southern Bank       July 18, 2014   \n",
        "9    12483             Alva State Bank & Trust Company       June 27, 2014   \n",
        "10   21793         Landmark Bank, National Association       June 20, 2014   \n",
        "11   10450                         Great Southern Bank       June 20, 2014   \n",
        "12   32368                               Bay Bank, FSB        May 30, 2014   \n",
        "13   32284                   United Fidelity Bank, fsb        May 23, 2014   \n",
        "14   57866                    Republic Bank of Chicago        May 16, 2014   \n",
        "15   15062                         Palmetto State Bank      April 25, 2014   \n",
        "16   58531                           First Choice Bank   February 28, 2014   \n",
        "17   35096                        WashingtonFirst Bank   February 28, 2014   \n",
        "18   34296                                Sunwest Bank    January 31, 2014   \n",
        "19   17967                                   BancFirst    January 24, 2014   \n",
        "20    5732                    Republic Bank of Chicago    January 17, 2014   \n",
        "21   57431                   Spirit of Texas Bank, SSB   December 13, 2013   \n",
        "22   14794               First Federal Bank of Florida    October 30, 2013   \n",
        "23   14318                          PlainsCapital Bank  September 13, 2013   \n",
        "24   57041                                 No Acquirer  September 13, 2013   \n",
        "25   34707   First Fidelity Bank, National Association     August 23, 2013   \n",
        "26   19849                             CB&S Bank, Inc.     August 23, 2013   \n",
        "27   35016                       Nicolet National Bank      August 9, 2013   \n",
        "28   34943                                     C1 Bank      August 2, 2013   \n",
        "29   34789  First Tennessee Bank, National Association        June 7, 2013   \n",
        "..     ...                                         ...                 ...   \n",
        "507  33901              Pulaski Bank and Trust Company         May 9, 2008   \n",
        "508   1971                               Security Bank       March 7, 2008   \n",
        "509  24660              Liberty Bank and Trust Company    January 25, 2008   \n",
        "510  16848                The Citizens Banking Company     October 4, 2007   \n",
        "511  32575                                  ING DIRECT  September 28, 2007   \n",
        "512  35353         Allegheny Valley Bank of Pittsburgh    February 2, 2007   \n",
        "513   1249                               Far West Bank       June 25, 2004   \n",
        "514  26778                            Union State Bank      March 19, 2004   \n",
        "515  26838                     Hancock Bank of Florida      March 12, 2004   \n",
        "516  31330                                 No Acquirer   February 14, 2004   \n",
        "517  27203                              Earthstar Bank   November 14, 2003   \n",
        "518  11639                               The Park Bank         May 9, 2003   \n",
        "519  27094                                   Beal Bank    February 7, 2003   \n",
        "520  16445                   Sabine State Bank & Trust   December 17, 2002   \n",
        "521   9961                                 No Acquirer    November 8, 2002   \n",
        "522  33784                                 No Acquirer  September 30, 2002   \n",
        "523  29355                      Chicago Community Bank       June 27, 2002   \n",
        "524  19183                          Hudson United Bank       June 26, 2002   \n",
        "525  34979                                 No Acquirer      March 28, 2002   \n",
        "526  26652                              Bank Leumi USA       March 1, 2002   \n",
        "527  22314                                 No Acquirer    February 7, 2002   \n",
        "528   8966              The State Bank & Trust Company    February 1, 2002   \n",
        "529  22002            The Security State Bank of Pecos    January 18, 2002   \n",
        "530  24382            Israel Discount Bank of New York    January 11, 2002   \n",
        "531  34248                          Delta Trust & Bank   September 7, 2001   \n",
        "532  32646                       Superior Federal, FSB       July 27, 2001   \n",
        "533   6629                           North Valley Bank         May 3, 2001   \n",
        "534  34264         Southern New Hampshire Bank & Trust    February 2, 2001   \n",
        "535   3815                     Banterra Bank of Marion   December 14, 2000   \n",
        "536  21029                          Bank of the Orient    October 13, 2000   \n",
        "\n",
        "           Updated Date Loss Share Type Agreement Terminated Termination Date  \n",
        "0     February 19, 2015            none                  NaN              NaN  \n",
        "1     February 11, 2015            none                  NaN              NaN  \n",
        "2     February 11, 2015            none                  NaN              NaN  \n",
        "3      February 4, 2015            none                  NaN              NaN  \n",
        "4      February 4, 2015            none                  NaN              NaN  \n",
        "5      February 4, 2015            none                  NaN              NaN  \n",
        "6      February 4, 2015            none                  NaN              NaN  \n",
        "7       January 5, 2015            none                  NaN              NaN  \n",
        "8       January 5, 2015            none                  NaN              NaN  \n",
        "9         July 18, 2014            none                  NaN              NaN  \n",
        "10        July 28, 2014            none                  NaN              NaN  \n",
        "11        July 28, 2014            none                  NaN              NaN  \n",
        "12        July 18, 2014            none                  NaN              NaN  \n",
        "13        July 18, 2014            none                  NaN              NaN  \n",
        "14        July 18, 2014            none                  NaN              NaN  \n",
        "15        July 18, 2014            none                  NaN              NaN  \n",
        "16       April 11, 2014            none                  NaN              NaN  \n",
        "17       April 11, 2014            none                  NaN              NaN  \n",
        "18    February 19, 2015            none                  NaN              NaN  \n",
        "19    February 19, 2015            none                  NaN              NaN  \n",
        "20    February 19, 2015            none                  NaN              NaN  \n",
        "21    December 29, 2014            none                  NaN              NaN  \n",
        "22    November 05, 2014            none                  NaN              NaN  \n",
        "23   September 12, 2014         SFR/NSF                  NaN              NaN  \n",
        "24    December 20, 2013            none                  NaN              NaN  \n",
        "25   September 12, 2014            none                  NaN              NaN  \n",
        "26   September 12, 2014            none                  NaN              NaN  \n",
        "27     October 24, 2013            none                  NaN              NaN  \n",
        "28       August 4, 2014            none                  NaN              NaN  \n",
        "29        June 20, 2014            none                  NaN              NaN  \n",
        "..                  ...             ...                  ...              ...  \n",
        "507     August 28, 2012            none                  NaN              NaN  \n",
        "508     August 28, 2012            none                  NaN              NaN  \n",
        "509    October 26, 2012            none                  NaN              NaN  \n",
        "510     August 28, 2012            none                  NaN              NaN  \n",
        "511     August 28, 2012            none                  NaN              NaN  \n",
        "512    October 27, 2010            none                  NaN              NaN  \n",
        "513       April 9, 2008            none                  NaN              NaN  \n",
        "514       April 9, 2008            none                  NaN              NaN  \n",
        "515        June 5, 2012            none                  NaN              NaN  \n",
        "516       April 9, 2008            none                  NaN              NaN  \n",
        "517       July 22, 2005            none                  NaN              NaN  \n",
        "518        June 5, 2012            none                  NaN              NaN  \n",
        "519    October 20, 2008            none                  NaN              NaN  \n",
        "520    October 20, 2004            none                  NaN              NaN  \n",
        "521      March 18, 2005            none                  NaN              NaN  \n",
        "522  September 11, 2006            none                  NaN              NaN  \n",
        "523       April 9, 2008            none                  NaN              NaN  \n",
        "524   February 14, 2012            none                  NaN              NaN  \n",
        "525      March 18, 2005            none                  NaN              NaN  \n",
        "526       April 9, 2008            none                  NaN              NaN  \n",
        "527    February 5, 2015            none                  NaN              NaN  \n",
        "528    October 25, 2012            none                  NaN              NaN  \n",
        "529    November 6, 2003            none                  NaN              NaN  \n",
        "530        June 5, 2012            none                  NaN              NaN  \n",
        "531   February 10, 2004            none                  NaN              NaN  \n",
        "532     August 19, 2014            none                  NaN              NaN  \n",
        "533   November 18, 2002            none                  NaN              NaN  \n",
        "534   February 18, 2003            none                  NaN              NaN  \n",
        "535      March 17, 2005            none                  NaN              NaN  \n",
        "536      March 17, 2005            none                  NaN              NaN  \n",
        "\n",
        "[537 rows x 10 columns]"
       ]
      }
     ],
     "prompt_number": 19
    },
    {
     "cell_type": "code",
     "collapsed": false,
     "input": [
      "dframe.columns.values"
     ],
     "language": "python",
     "metadata": {},
     "outputs": [
      {
       "metadata": {},
       "output_type": "pyout",
       "prompt_number": 21,
       "text": [
        "array([u'Bank Name', u'City', u'ST', u'CERT', u'Acquiring Institution',\n",
        "       u'Closing Date', u'Updated Date', u'Loss Share Type',\n",
        "       u'Agreement Terminated', u'Termination Date'], dtype=object)"
       ]
      }
     ],
     "prompt_number": 21
    },
    {
     "cell_type": "code",
     "collapsed": false,
     "input": [
      "#Next we'll learn about working with Excel files!"
     ],
     "language": "python",
     "metadata": {},
     "outputs": []
    }
   ],
   "metadata": {}
  }
 ]
}